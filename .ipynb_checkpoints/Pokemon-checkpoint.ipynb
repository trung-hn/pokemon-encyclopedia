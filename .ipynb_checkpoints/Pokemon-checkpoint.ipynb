{
 "cells": [
  {
   "cell_type": "markdown",
   "metadata": {},
   "source": [
    "- Note: Call per second is limited so need to save locally.\n",
    "- File is too big, cannot save as 1 file\n",
    "- Looking into removing parts that don't need to json file\n",
    "    - Decide to use multithreading to download several at the same time\n",
    "    \n",
    "- need to explain gender rate (refer to doc)  \n",
    "- Problem: Need to find a differrent source for sprite\n",
    "\n",
    "https://pokeapi.co/docs/v2.html"
   ]
  },
  {
   "cell_type": "markdown",
   "metadata": {},
   "source": [
    "## In order to reduce the number of call of API, we decided to save this url to local.\n",
    "### Fixed limit: 100 API requests per IP address per minute"
   ]
  },
  {
   "cell_type": "code",
   "execution_count": 3,
   "metadata": {},
   "outputs": [],
   "source": [
    "import requests\n",
    "import json\n",
    "import collections\n",
    "import time\n",
    "import concurrent.futures\n",
    "import csv\n",
    "import functools\n",
    "from pprint import pprint\n",
    "from typing import List, Dict\n",
    "from IPython.display import clear_output"
   ]
  },
  {
   "cell_type": "markdown",
   "metadata": {},
   "source": [
    "Each pokemon has many different json files with different information. This will run through each pokemon in each json type (input) and save them as a csv file. This is how it looks like at the end:\n",
    "\n",
    "```\n",
    "bulbasaur,https://pokeapi.co/api/v2/pokemon-species/1/\n",
    "ivysaur,https://pokeapi.co/api/v2/pokemon-species/2/\n",
    "venusaur,https://pokeapi.co/api/v2/pokemon-species/3/\n",
    "charmander,https://pokeapi.co/api/v2/pokemon-species/4/\n",
    "charmeleon,https://pokeapi.co/api/v2/pokemon-species/5/\n",
    "charizard,https://pokeapi.co/api/v2/pokemon-species/6/\n",
    "squirtle,https://pokeapi.co/api/v2/pokemon-species/7/\n",
    "wartortle,https://pokeapi.co/api/v2/pokemon-species/8/\n",
    "blastoise,https://pokeapi.co/api/v2/pokemon-species/9/\n",
    "caterpie,https://pokeapi.co/api/v2/pokemon-species/10/\n",
    "...\n",
    "```\n"
   ]
  },
  {
   "cell_type": "code",
   "execution_count": 1,
   "metadata": {},
   "outputs": [],
   "source": [
    "def request_and_save_urls(json_type: str):\n",
    "    # Each url only has 20 pokemons\n",
    "    url = fr\"https://pokeapi.co/api/v2/{json_type}/\"\n",
    "    with open(f\"data/{json_type}/{json_type}-urls.csv\", \"w\") as file:\n",
    "        pokemon_url_writer = csv.writer(file, delimiter=\",\", lineterminator=\"\\n\")\n",
    "\n",
    "        while 1:\n",
    "            # Get urls of 20 pokemons\n",
    "            response = requests.get(url)\n",
    "            json_data = json.loads(response.text)\n",
    "\n",
    "            # Write to CSV file\n",
    "            for pokemon in json_data[\"results\"]:\n",
    "                pokemon_url_writer.writerow(list(pokemon.values()))\n",
    "\n",
    "            # Next 20 pokemons\n",
    "            url = json_data[\"next\"]\n",
    "            if not url: break"
   ]
  },
  {
   "cell_type": "markdown",
   "metadata": {},
   "source": [
    "### We want the following json files"
   ]
  },
  {
   "cell_type": "code",
   "execution_count": 4,
   "metadata": {},
   "outputs": [],
   "source": [
    "request_and_save_urls(\"pokemon\")\n",
    "request_and_save_urls(\"pokemon-species\")"
   ]
  },
  {
   "cell_type": "markdown",
   "metadata": {},
   "source": [
    "### Load the csv file and request each Pokemon\n",
    "This is used to fetch data from pokeAPI and save it locally. We load the CSV file earlier and request each Pokemon information. We group all information by type (pokemon_species, ...) and save it as a JSON file. However, because of the **fixed limit** on how many API can be called per minute (100), there is a delay in the code which make the total run time between 15-20 minutes\n",
    "\n",
    "We also have an exclusion list to exclude data that are not needed from the responsed JSON"
   ]
  },
  {
   "cell_type": "code",
   "execution_count": 3,
   "metadata": {},
   "outputs": [],
   "source": [
    "def request_and_cache(json_type, exclude: List[str]) -> None:\n",
    "    return_json = {}\n",
    "    \n",
    "    # Open csv file to get urls\n",
    "    pokemon_urls = list(csv.reader(open(f\"data/{json_type}/{json_type}-urls.csv\", \"r\"), delimiter=\",\"))\n",
    "    \n",
    "    # Request each url and save as 1 big json file\n",
    "    for i, (pokemon_name, pokemon_url) in enumerate(pokemon_urls):\n",
    "        clear_output()\n",
    "        print(f\"{i}. Working on type: '{json_type}', pokemon: {pokemon_name}\")\n",
    "        pokemon_json = json.loads(requests.get(pokemon_url).text)\n",
    "        \n",
    "        # To reduce the file size, we exclude some parts of json_data\n",
    "        return_json[pokemon_name] = {k:v for k, v in pokemon_json.items() if k not in exclude}\n",
    "        \n",
    "        # Make sure not to exceed to API limit\n",
    "        time.sleep(1)\n",
    "    json.dump(return_json, open(f\"data/{json_type}/{json_type}.json\", \"w\"))"
   ]
  },
  {
   "cell_type": "markdown",
   "metadata": {},
   "source": [
    "We use multithreading to make this process faster"
   ]
  },
  {
   "cell_type": "code",
   "execution_count": 4,
   "metadata": {},
   "outputs": [
    {
     "name": "stdout",
     "output_type": "stream",
     "text": [
      "963. Working on type: 'pokemon', pokemon: necrozma-ultra\n"
     ]
    }
   ],
   "source": [
    "with concurrent.futures.ThreadPoolExecutor(max_workers=2) as executor:\n",
    "    for json_type, exclude in [(\"pokemon\", [\"game_indices\", \n",
    "                                            \"moves\", \n",
    "                                            ]), \n",
    "                               (\"pokemon-species\", [\"genera\", \n",
    "                                                    \"names\", \n",
    "                                                    \"pokedex_numbers\", \n",
    "                                                    \"varieties\", \n",
    "                                                    \"flavor_text_entries\",\n",
    "                                                   ]),\n",
    "                               ]:\n",
    "        temp = functools.partial(request_and_cache, exclude=exclude)\n",
    "        executor.map(temp, [json_type])"
   ]
  },
  {
   "cell_type": "markdown",
   "metadata": {},
   "source": [
    "### Load Pokemon Json files and Analyse"
   ]
  },
  {
   "cell_type": "markdown",
   "metadata": {},
   "source": [
    "#### Pokemon"
   ]
  },
  {
   "cell_type": "code",
   "execution_count": 5,
   "metadata": {
    "scrolled": true
   },
   "outputs": [],
   "source": [
    "all_pokemons_info = collections.defaultdict(dict)\n",
    "\n",
    "pokemon_json = json.load(open(\"data/pokemon/pokemon.json\", \"r\"))\n",
    "for pokemon, info in pokemon_json.items():\n",
    "    pokemon_info = all_pokemons_info[pokemon]\n",
    "    \n",
    "    # Get height, weight, name\n",
    "    for key in (\"height\", \"weight\", \"name\"):\n",
    "        pokemon_info[key] = info[key]\n",
    "        \n",
    "    # Get 6 stats (hp, att, def, sp. att, sp. def) for pokemon\n",
    "    for stats in info[\"stats\"]:\n",
    "        pokemon_info[stats[\"stat\"][\"name\"]] = stats[\"base_stat\"]\n",
    "    \n",
    "    # Get list of abilities\n",
    "    pokemon_info[\"abilities\"] = [ability[\"ability\"][\"name\"] for ability in info[\"abilities\"]]\n",
    "    \n",
    "    # Get Pokemon Image\n",
    "    pokemon_info[\"sprites\"] = info[\"sprites\"][\"front_default\"]\n",
    "    \n",
    "    # Get Pokemon Types\n",
    "    pokemon_info[\"types\"] = [type_[\"type\"][\"name\"] for type_ in info[\"types\"]]\n",
    "    \n",
    "    # Get Pokemon Species Name\n",
    "    pokemon_info[\"species\"] = info[\"species\"][\"name\"]"
   ]
  },
  {
   "cell_type": "markdown",
   "metadata": {},
   "source": [
    "#### Pokemon Species"
   ]
  },
  {
   "cell_type": "code",
   "execution_count": 6,
   "metadata": {},
   "outputs": [],
   "source": [
    "pokemon_species_json = json.load(open(\"data/pokemon-species/pokemon-species.json\", \"r\"))\n",
    "for pokemon, info in pokemon_species_json.items():\n",
    "    pokemon_info = all_pokemons_info[pokemon]\n",
    "    \n",
    "    # Get basic info\n",
    "    for key in (\"base_happiness\", \"capture_rate\", \"gender_rate\"):\n",
    "        pokemon_info[key] = info[key]\n",
    "    \n",
    "    # Get list of egg groups\n",
    "    pokemon_info[\"egg_groups\"] = [group[\"name\"] for group in info[\"egg_groups\"]]\n",
    "    \n",
    "    # Get Evolution Chain\n",
    "    if info[\"evolves_from_species\"]:\n",
    "        pokemon_info[\"evolves_from\"] = info[\"evolves_from_species\"][\"name\"]\n",
    "        prev_pokemon = all_pokemons_info[pokemon_info[\"evolves_from\"]]\n",
    "        prev_pokemon[\"evolve_to\"] = prev_pokemon.get(\"evolve_to\", []) + [pokemon]    \n",
    "        \n",
    "    # Get basic info. These info are in a dictionary\n",
    "    for key in (\"color\", \"generation\", \"growth_rate\", \"habitat\", \"shape\"):\n",
    "        if info[key]: pokemon_info[key] = info[key][\"name\"]    "
   ]
  },
  {
   "cell_type": "code",
   "execution_count": 7,
   "metadata": {},
   "outputs": [],
   "source": [
    "json.dump(all_pokemons_info, open(\"data/all_pokemons_info.json\", \"w\"))"
   ]
  },
  {
   "cell_type": "markdown",
   "metadata": {},
   "source": [
    "### Convert from JSON to CSV"
   ]
  },
  {
   "cell_type": "code",
   "execution_count": 8,
   "metadata": {},
   "outputs": [
    {
     "name": "stdout",
     "output_type": "stream",
     "text": [
      "deoxys, wormadam, giratina, shaymin, basculin, darmanitan, tornadus, thundurus, landorus, keldeo, meloetta, meowstic, aegislash, pumpkaboo, gourgeist, oricorio, lycanroc, wishiwashi, minior, mimikyu, "
     ]
    }
   ],
   "source": [
    "all_pokemons_info_csv = []\n",
    "\n",
    "with open(\"data/all_pokemons_info.csv\", \"w\") as csv_file:\n",
    "    writer = csv.writer(csv_file, delimiter=\",\", lineterminator=\"\\n\")\n",
    "    for pokemon, info in all_pokemons_info.items():\n",
    "        try:\n",
    "            writer.writerow([info[\"sprites\"],\n",
    "                             pokemon,\n",
    "                             \", \".join(info[\"types\"]),\n",
    "                             info[\"hp\"],\n",
    "                             info[\"attack\"],\n",
    "                             info[\"defense\"],\n",
    "                             info[\"special-attack\"],\n",
    "                             info[\"special-defense\"],\n",
    "                             info[\"speed\"],\n",
    "                             \", \".join(info[\"abilities\"]),\n",
    "    #                         info[\"base_happiness\"],\n",
    "    #                         info[\"capture_rate\"],\n",
    "                             info[\"height\"]*10,\n",
    "                             info[\"weight\"]/10,])\n",
    "        except:\n",
    "            print(pokemon, end=\", \")\n",
    "    \n",
    "        "
   ]
  },
  {
   "cell_type": "markdown",
   "metadata": {},
   "source": [
    "# Print using CSV"
   ]
  },
  {
   "cell_type": "code",
   "execution_count": 9,
   "metadata": {},
   "outputs": [
    {
     "data": {
      "text/html": [
       "<table>\n",
       "<thead>\n",
       "<tr><th style=\"text-align: right;\">  #</th><th>Sprite                                                                                                     </th><th>Name      </th><th>Types         </th><th style=\"text-align: right;\">  HP</th><th style=\"text-align: right;\">  Att</th><th style=\"text-align: right;\">  Def</th><th style=\"text-align: right;\">  Sp. Att</th><th style=\"text-align: right;\">  Sp. Def</th><th style=\"text-align: right;\">  Speed</th><th>Abilities                            </th><th style=\"text-align: right;\">  Base Happiness</th><th style=\"text-align: right;\">  Capture Rate</th></tr>\n",
       "</thead>\n",
       "<tbody>\n",
       "<tr><td style=\"text-align: right;\">  1</td><td><img src='https://raw.githubusercontent.com/PokeAPI/sprites/master/sprites/pokemon/1.png' alt='bulbasaur'  </td><td>bulbasaur </td><td>poison, grass </td><td style=\"text-align: right;\">  45</td><td style=\"text-align: right;\">   49</td><td style=\"text-align: right;\">   49</td><td style=\"text-align: right;\">       65</td><td style=\"text-align: right;\">       65</td><td style=\"text-align: right;\">     45</td><td>chlorophyll, overgrow                </td><td style=\"text-align: right;\">              70</td><td style=\"text-align: right;\">           6.9</td></tr>\n",
       "<tr><td style=\"text-align: right;\">  2</td><td><img src='https://raw.githubusercontent.com/PokeAPI/sprites/master/sprites/pokemon/2.png' alt='ivysaur'    </td><td>ivysaur   </td><td>poison, grass </td><td style=\"text-align: right;\">  60</td><td style=\"text-align: right;\">   62</td><td style=\"text-align: right;\">   63</td><td style=\"text-align: right;\">       80</td><td style=\"text-align: right;\">       80</td><td style=\"text-align: right;\">     60</td><td>chlorophyll, overgrow                </td><td style=\"text-align: right;\">             100</td><td style=\"text-align: right;\">          13  </td></tr>\n",
       "<tr><td style=\"text-align: right;\">  3</td><td><img src='https://raw.githubusercontent.com/PokeAPI/sprites/master/sprites/pokemon/3.png' alt='venusaur'   </td><td>venusaur  </td><td>poison, grass </td><td style=\"text-align: right;\">  80</td><td style=\"text-align: right;\">   82</td><td style=\"text-align: right;\">   83</td><td style=\"text-align: right;\">      100</td><td style=\"text-align: right;\">      100</td><td style=\"text-align: right;\">     80</td><td>chlorophyll, overgrow                </td><td style=\"text-align: right;\">             200</td><td style=\"text-align: right;\">         100  </td></tr>\n",
       "<tr><td style=\"text-align: right;\">  4</td><td><img src='https://raw.githubusercontent.com/PokeAPI/sprites/master/sprites/pokemon/4.png' alt='charmander' </td><td>charmander</td><td>fire          </td><td style=\"text-align: right;\">  39</td><td style=\"text-align: right;\">   52</td><td style=\"text-align: right;\">   43</td><td style=\"text-align: right;\">       60</td><td style=\"text-align: right;\">       50</td><td style=\"text-align: right;\">     65</td><td>solar-power, blaze                   </td><td style=\"text-align: right;\">              60</td><td style=\"text-align: right;\">           8.5</td></tr>\n",
       "<tr><td style=\"text-align: right;\">  5</td><td><img src='https://raw.githubusercontent.com/PokeAPI/sprites/master/sprites/pokemon/5.png' alt='charmeleon' </td><td>charmeleon</td><td>fire          </td><td style=\"text-align: right;\">  58</td><td style=\"text-align: right;\">   64</td><td style=\"text-align: right;\">   58</td><td style=\"text-align: right;\">       80</td><td style=\"text-align: right;\">       65</td><td style=\"text-align: right;\">     80</td><td>solar-power, blaze                   </td><td style=\"text-align: right;\">             110</td><td style=\"text-align: right;\">          19  </td></tr>\n",
       "<tr><td style=\"text-align: right;\">  6</td><td><img src='https://raw.githubusercontent.com/PokeAPI/sprites/master/sprites/pokemon/6.png' alt='charizard'  </td><td>charizard </td><td>flying, fire  </td><td style=\"text-align: right;\">  78</td><td style=\"text-align: right;\">   84</td><td style=\"text-align: right;\">   78</td><td style=\"text-align: right;\">      109</td><td style=\"text-align: right;\">       85</td><td style=\"text-align: right;\">    100</td><td>solar-power, blaze                   </td><td style=\"text-align: right;\">             170</td><td style=\"text-align: right;\">          90.5</td></tr>\n",
       "<tr><td style=\"text-align: right;\">  7</td><td><img src='https://raw.githubusercontent.com/PokeAPI/sprites/master/sprites/pokemon/7.png' alt='squirtle'   </td><td>squirtle  </td><td>water         </td><td style=\"text-align: right;\">  44</td><td style=\"text-align: right;\">   48</td><td style=\"text-align: right;\">   65</td><td style=\"text-align: right;\">       50</td><td style=\"text-align: right;\">       64</td><td style=\"text-align: right;\">     43</td><td>rain-dish, torrent                   </td><td style=\"text-align: right;\">              50</td><td style=\"text-align: right;\">           9  </td></tr>\n",
       "<tr><td style=\"text-align: right;\">  8</td><td><img src='https://raw.githubusercontent.com/PokeAPI/sprites/master/sprites/pokemon/8.png' alt='wartortle'  </td><td>wartortle </td><td>water         </td><td style=\"text-align: right;\">  59</td><td style=\"text-align: right;\">   63</td><td style=\"text-align: right;\">   80</td><td style=\"text-align: right;\">       65</td><td style=\"text-align: right;\">       80</td><td style=\"text-align: right;\">     58</td><td>rain-dish, torrent                   </td><td style=\"text-align: right;\">             100</td><td style=\"text-align: right;\">          22.5</td></tr>\n",
       "<tr><td style=\"text-align: right;\">  9</td><td><img src='https://raw.githubusercontent.com/PokeAPI/sprites/master/sprites/pokemon/9.png' alt='blastoise'  </td><td>blastoise </td><td>water         </td><td style=\"text-align: right;\">  79</td><td style=\"text-align: right;\">   83</td><td style=\"text-align: right;\">  100</td><td style=\"text-align: right;\">       85</td><td style=\"text-align: right;\">      105</td><td style=\"text-align: right;\">     78</td><td>rain-dish, torrent                   </td><td style=\"text-align: right;\">             160</td><td style=\"text-align: right;\">          85.5</td></tr>\n",
       "<tr><td style=\"text-align: right;\"> 10</td><td><img src='https://raw.githubusercontent.com/PokeAPI/sprites/master/sprites/pokemon/10.png' alt='caterpie'  </td><td>caterpie  </td><td>bug           </td><td style=\"text-align: right;\">  45</td><td style=\"text-align: right;\">   30</td><td style=\"text-align: right;\">   35</td><td style=\"text-align: right;\">       20</td><td style=\"text-align: right;\">       20</td><td style=\"text-align: right;\">     45</td><td>run-away, shield-dust                </td><td style=\"text-align: right;\">              30</td><td style=\"text-align: right;\">           2.9</td></tr>\n",
       "<tr><td style=\"text-align: right;\"> 11</td><td><img src='https://raw.githubusercontent.com/PokeAPI/sprites/master/sprites/pokemon/11.png' alt='metapod'   </td><td>metapod   </td><td>bug           </td><td style=\"text-align: right;\">  50</td><td style=\"text-align: right;\">   20</td><td style=\"text-align: right;\">   55</td><td style=\"text-align: right;\">       25</td><td style=\"text-align: right;\">       25</td><td style=\"text-align: right;\">     30</td><td>shed-skin                            </td><td style=\"text-align: right;\">              70</td><td style=\"text-align: right;\">           9.9</td></tr>\n",
       "<tr><td style=\"text-align: right;\"> 12</td><td><img src='https://raw.githubusercontent.com/PokeAPI/sprites/master/sprites/pokemon/12.png' alt='butterfree'</td><td>butterfree</td><td>flying, bug   </td><td style=\"text-align: right;\">  60</td><td style=\"text-align: right;\">   45</td><td style=\"text-align: right;\">   50</td><td style=\"text-align: right;\">       90</td><td style=\"text-align: right;\">       80</td><td style=\"text-align: right;\">     70</td><td>tinted-lens, compound-eyes           </td><td style=\"text-align: right;\">             110</td><td style=\"text-align: right;\">          32  </td></tr>\n",
       "<tr><td style=\"text-align: right;\"> 13</td><td><img src='https://raw.githubusercontent.com/PokeAPI/sprites/master/sprites/pokemon/13.png' alt='weedle'    </td><td>weedle    </td><td>poison, bug   </td><td style=\"text-align: right;\">  40</td><td style=\"text-align: right;\">   35</td><td style=\"text-align: right;\">   30</td><td style=\"text-align: right;\">       20</td><td style=\"text-align: right;\">       20</td><td style=\"text-align: right;\">     50</td><td>run-away, shield-dust                </td><td style=\"text-align: right;\">              30</td><td style=\"text-align: right;\">           3.2</td></tr>\n",
       "<tr><td style=\"text-align: right;\"> 14</td><td><img src='https://raw.githubusercontent.com/PokeAPI/sprites/master/sprites/pokemon/14.png' alt='kakuna'    </td><td>kakuna    </td><td>poison, bug   </td><td style=\"text-align: right;\">  45</td><td style=\"text-align: right;\">   25</td><td style=\"text-align: right;\">   50</td><td style=\"text-align: right;\">       25</td><td style=\"text-align: right;\">       25</td><td style=\"text-align: right;\">     35</td><td>shed-skin                            </td><td style=\"text-align: right;\">              60</td><td style=\"text-align: right;\">          10  </td></tr>\n",
       "<tr><td style=\"text-align: right;\"> 15</td><td><img src='https://raw.githubusercontent.com/PokeAPI/sprites/master/sprites/pokemon/15.png' alt='beedrill'  </td><td>beedrill  </td><td>poison, bug   </td><td style=\"text-align: right;\">  65</td><td style=\"text-align: right;\">   90</td><td style=\"text-align: right;\">   40</td><td style=\"text-align: right;\">       45</td><td style=\"text-align: right;\">       80</td><td style=\"text-align: right;\">     75</td><td>sniper, swarm                        </td><td style=\"text-align: right;\">             100</td><td style=\"text-align: right;\">          29.5</td></tr>\n",
       "<tr><td style=\"text-align: right;\"> 16</td><td><img src='https://raw.githubusercontent.com/PokeAPI/sprites/master/sprites/pokemon/16.png' alt='pidgey'    </td><td>pidgey    </td><td>flying, normal</td><td style=\"text-align: right;\">  40</td><td style=\"text-align: right;\">   45</td><td style=\"text-align: right;\">   40</td><td style=\"text-align: right;\">       35</td><td style=\"text-align: right;\">       35</td><td style=\"text-align: right;\">     56</td><td>big-pecks, tangled-feet, keen-eye    </td><td style=\"text-align: right;\">              30</td><td style=\"text-align: right;\">           1.8</td></tr>\n",
       "<tr><td style=\"text-align: right;\"> 17</td><td><img src='https://raw.githubusercontent.com/PokeAPI/sprites/master/sprites/pokemon/17.png' alt='pidgeotto' </td><td>pidgeotto </td><td>flying, normal</td><td style=\"text-align: right;\">  63</td><td style=\"text-align: right;\">   60</td><td style=\"text-align: right;\">   55</td><td style=\"text-align: right;\">       50</td><td style=\"text-align: right;\">       50</td><td style=\"text-align: right;\">     71</td><td>big-pecks, tangled-feet, keen-eye    </td><td style=\"text-align: right;\">             110</td><td style=\"text-align: right;\">          30  </td></tr>\n",
       "<tr><td style=\"text-align: right;\"> 18</td><td><img src='https://raw.githubusercontent.com/PokeAPI/sprites/master/sprites/pokemon/18.png' alt='pidgeot'   </td><td>pidgeot   </td><td>flying, normal</td><td style=\"text-align: right;\">  83</td><td style=\"text-align: right;\">   80</td><td style=\"text-align: right;\">   75</td><td style=\"text-align: right;\">       70</td><td style=\"text-align: right;\">       70</td><td style=\"text-align: right;\">    101</td><td>big-pecks, tangled-feet, keen-eye    </td><td style=\"text-align: right;\">             150</td><td style=\"text-align: right;\">          39.5</td></tr>\n",
       "<tr><td style=\"text-align: right;\"> 19</td><td><img src='https://raw.githubusercontent.com/PokeAPI/sprites/master/sprites/pokemon/19.png' alt='rattata'   </td><td>rattata   </td><td>normal        </td><td style=\"text-align: right;\">  30</td><td style=\"text-align: right;\">   56</td><td style=\"text-align: right;\">   35</td><td style=\"text-align: right;\">       25</td><td style=\"text-align: right;\">       35</td><td style=\"text-align: right;\">     72</td><td>hustle, guts, run-away               </td><td style=\"text-align: right;\">              30</td><td style=\"text-align: right;\">           3.5</td></tr>\n",
       "<tr><td style=\"text-align: right;\"> 20</td><td><img src='https://raw.githubusercontent.com/PokeAPI/sprites/master/sprites/pokemon/20.png' alt='raticate'  </td><td>raticate  </td><td>normal        </td><td style=\"text-align: right;\">  55</td><td style=\"text-align: right;\">   81</td><td style=\"text-align: right;\">   60</td><td style=\"text-align: right;\">       50</td><td style=\"text-align: right;\">       70</td><td style=\"text-align: right;\">     97</td><td>hustle, guts, run-away               </td><td style=\"text-align: right;\">              70</td><td style=\"text-align: right;\">          18.5</td></tr>\n",
       "<tr><td style=\"text-align: right;\"> 21</td><td><img src='https://raw.githubusercontent.com/PokeAPI/sprites/master/sprites/pokemon/21.png' alt='spearow'   </td><td>spearow   </td><td>flying, normal</td><td style=\"text-align: right;\">  40</td><td style=\"text-align: right;\">   60</td><td style=\"text-align: right;\">   30</td><td style=\"text-align: right;\">       31</td><td style=\"text-align: right;\">       31</td><td style=\"text-align: right;\">     70</td><td>sniper, keen-eye                     </td><td style=\"text-align: right;\">              30</td><td style=\"text-align: right;\">           2  </td></tr>\n",
       "<tr><td style=\"text-align: right;\"> 22</td><td><img src='https://raw.githubusercontent.com/PokeAPI/sprites/master/sprites/pokemon/22.png' alt='fearow'    </td><td>fearow    </td><td>flying, normal</td><td style=\"text-align: right;\">  65</td><td style=\"text-align: right;\">   90</td><td style=\"text-align: right;\">   65</td><td style=\"text-align: right;\">       61</td><td style=\"text-align: right;\">       61</td><td style=\"text-align: right;\">    100</td><td>sniper, keen-eye                     </td><td style=\"text-align: right;\">             120</td><td style=\"text-align: right;\">          38  </td></tr>\n",
       "<tr><td style=\"text-align: right;\"> 23</td><td><img src='https://raw.githubusercontent.com/PokeAPI/sprites/master/sprites/pokemon/23.png' alt='ekans'     </td><td>ekans     </td><td>poison        </td><td style=\"text-align: right;\">  35</td><td style=\"text-align: right;\">   60</td><td style=\"text-align: right;\">   44</td><td style=\"text-align: right;\">       40</td><td style=\"text-align: right;\">       54</td><td style=\"text-align: right;\">     55</td><td>unnerve, shed-skin, intimidate       </td><td style=\"text-align: right;\">             200</td><td style=\"text-align: right;\">           6.9</td></tr>\n",
       "<tr><td style=\"text-align: right;\"> 24</td><td><img src='https://raw.githubusercontent.com/PokeAPI/sprites/master/sprites/pokemon/24.png' alt='arbok'     </td><td>arbok     </td><td>poison        </td><td style=\"text-align: right;\">  60</td><td style=\"text-align: right;\">   95</td><td style=\"text-align: right;\">   69</td><td style=\"text-align: right;\">       65</td><td style=\"text-align: right;\">       79</td><td style=\"text-align: right;\">     80</td><td>unnerve, shed-skin, intimidate       </td><td style=\"text-align: right;\">             350</td><td style=\"text-align: right;\">          65  </td></tr>\n",
       "<tr><td style=\"text-align: right;\"> 25</td><td><img src='https://raw.githubusercontent.com/PokeAPI/sprites/master/sprites/pokemon/25.png' alt='pikachu'   </td><td>pikachu   </td><td>electric      </td><td style=\"text-align: right;\">  35</td><td style=\"text-align: right;\">   55</td><td style=\"text-align: right;\">   40</td><td style=\"text-align: right;\">       50</td><td style=\"text-align: right;\">       50</td><td style=\"text-align: right;\">     90</td><td>lightning-rod, static                </td><td style=\"text-align: right;\">              40</td><td style=\"text-align: right;\">           6  </td></tr>\n",
       "<tr><td style=\"text-align: right;\"> 26</td><td><img src='https://raw.githubusercontent.com/PokeAPI/sprites/master/sprites/pokemon/26.png' alt='raichu'    </td><td>raichu    </td><td>electric      </td><td style=\"text-align: right;\">  60</td><td style=\"text-align: right;\">   90</td><td style=\"text-align: right;\">   55</td><td style=\"text-align: right;\">       90</td><td style=\"text-align: right;\">       80</td><td style=\"text-align: right;\">    110</td><td>lightning-rod, static                </td><td style=\"text-align: right;\">              80</td><td style=\"text-align: right;\">          30  </td></tr>\n",
       "<tr><td style=\"text-align: right;\"> 27</td><td><img src='https://raw.githubusercontent.com/PokeAPI/sprites/master/sprites/pokemon/27.png' alt='sandshrew' </td><td>sandshrew </td><td>ground        </td><td style=\"text-align: right;\">  50</td><td style=\"text-align: right;\">   75</td><td style=\"text-align: right;\">   85</td><td style=\"text-align: right;\">       20</td><td style=\"text-align: right;\">       30</td><td style=\"text-align: right;\">     40</td><td>sand-rush, sand-veil                 </td><td style=\"text-align: right;\">              60</td><td style=\"text-align: right;\">          12  </td></tr>\n",
       "<tr><td style=\"text-align: right;\"> 28</td><td><img src='https://raw.githubusercontent.com/PokeAPI/sprites/master/sprites/pokemon/28.png' alt='sandslash' </td><td>sandslash </td><td>ground        </td><td style=\"text-align: right;\">  75</td><td style=\"text-align: right;\">  100</td><td style=\"text-align: right;\">  110</td><td style=\"text-align: right;\">       45</td><td style=\"text-align: right;\">       55</td><td style=\"text-align: right;\">     65</td><td>sand-rush, sand-veil                 </td><td style=\"text-align: right;\">             100</td><td style=\"text-align: right;\">          29.5</td></tr>\n",
       "<tr><td style=\"text-align: right;\"> 29</td><td><img src='https://raw.githubusercontent.com/PokeAPI/sprites/master/sprites/pokemon/29.png' alt='nidoran-f' </td><td>nidoran-f </td><td>poison        </td><td style=\"text-align: right;\">  55</td><td style=\"text-align: right;\">   47</td><td style=\"text-align: right;\">   52</td><td style=\"text-align: right;\">       40</td><td style=\"text-align: right;\">       40</td><td style=\"text-align: right;\">     41</td><td>hustle, rivalry, poison-point        </td><td style=\"text-align: right;\">              40</td><td style=\"text-align: right;\">           7  </td></tr>\n",
       "<tr><td style=\"text-align: right;\"> 30</td><td><img src='https://raw.githubusercontent.com/PokeAPI/sprites/master/sprites/pokemon/30.png' alt='nidorina'  </td><td>nidorina  </td><td>poison        </td><td style=\"text-align: right;\">  70</td><td style=\"text-align: right;\">   62</td><td style=\"text-align: right;\">   67</td><td style=\"text-align: right;\">       55</td><td style=\"text-align: right;\">       55</td><td style=\"text-align: right;\">     56</td><td>hustle, rivalry, poison-point        </td><td style=\"text-align: right;\">              80</td><td style=\"text-align: right;\">          20  </td></tr>\n",
       "<tr><td style=\"text-align: right;\"> 31</td><td><img src='https://raw.githubusercontent.com/PokeAPI/sprites/master/sprites/pokemon/31.png' alt='nidoqueen' </td><td>nidoqueen </td><td>ground, poison</td><td style=\"text-align: right;\">  90</td><td style=\"text-align: right;\">   92</td><td style=\"text-align: right;\">   87</td><td style=\"text-align: right;\">       75</td><td style=\"text-align: right;\">       85</td><td style=\"text-align: right;\">     76</td><td>sheer-force, rivalry, poison-point   </td><td style=\"text-align: right;\">             130</td><td style=\"text-align: right;\">          60  </td></tr>\n",
       "<tr><td style=\"text-align: right;\"> 32</td><td><img src='https://raw.githubusercontent.com/PokeAPI/sprites/master/sprites/pokemon/32.png' alt='nidoran-m' </td><td>nidoran-m </td><td>poison        </td><td style=\"text-align: right;\">  46</td><td style=\"text-align: right;\">   57</td><td style=\"text-align: right;\">   40</td><td style=\"text-align: right;\">       40</td><td style=\"text-align: right;\">       40</td><td style=\"text-align: right;\">     50</td><td>hustle, rivalry, poison-point        </td><td style=\"text-align: right;\">              50</td><td style=\"text-align: right;\">           9  </td></tr>\n",
       "<tr><td style=\"text-align: right;\"> 33</td><td><img src='https://raw.githubusercontent.com/PokeAPI/sprites/master/sprites/pokemon/33.png' alt='nidorino'  </td><td>nidorino  </td><td>poison        </td><td style=\"text-align: right;\">  61</td><td style=\"text-align: right;\">   72</td><td style=\"text-align: right;\">   57</td><td style=\"text-align: right;\">       55</td><td style=\"text-align: right;\">       55</td><td style=\"text-align: right;\">     65</td><td>hustle, rivalry, poison-point        </td><td style=\"text-align: right;\">              90</td><td style=\"text-align: right;\">          19.5</td></tr>\n",
       "<tr><td style=\"text-align: right;\"> 34</td><td><img src='https://raw.githubusercontent.com/PokeAPI/sprites/master/sprites/pokemon/34.png' alt='nidoking'  </td><td>nidoking  </td><td>ground, poison</td><td style=\"text-align: right;\">  81</td><td style=\"text-align: right;\">  102</td><td style=\"text-align: right;\">   77</td><td style=\"text-align: right;\">       85</td><td style=\"text-align: right;\">       75</td><td style=\"text-align: right;\">     85</td><td>sheer-force, rivalry, poison-point   </td><td style=\"text-align: right;\">             140</td><td style=\"text-align: right;\">          62  </td></tr>\n",
       "<tr><td style=\"text-align: right;\"> 35</td><td><img src='https://raw.githubusercontent.com/PokeAPI/sprites/master/sprites/pokemon/35.png' alt='clefairy'  </td><td>clefairy  </td><td>fairy         </td><td style=\"text-align: right;\">  70</td><td style=\"text-align: right;\">   45</td><td style=\"text-align: right;\">   48</td><td style=\"text-align: right;\">       60</td><td style=\"text-align: right;\">       65</td><td style=\"text-align: right;\">     35</td><td>friend-guard, magic-guard, cute-charm</td><td style=\"text-align: right;\">              60</td><td style=\"text-align: right;\">           7.5</td></tr>\n",
       "<tr><td style=\"text-align: right;\"> 36</td><td><img src='https://raw.githubusercontent.com/PokeAPI/sprites/master/sprites/pokemon/36.png' alt='clefable'  </td><td>clefable  </td><td>fairy         </td><td style=\"text-align: right;\">  95</td><td style=\"text-align: right;\">   70</td><td style=\"text-align: right;\">   73</td><td style=\"text-align: right;\">       95</td><td style=\"text-align: right;\">       90</td><td style=\"text-align: right;\">     60</td><td>unaware, magic-guard, cute-charm     </td><td style=\"text-align: right;\">             130</td><td style=\"text-align: right;\">          40  </td></tr>\n",
       "<tr><td style=\"text-align: right;\"> 37</td><td><img src='https://raw.githubusercontent.com/PokeAPI/sprites/master/sprites/pokemon/37.png' alt='vulpix'    </td><td>vulpix    </td><td>fire          </td><td style=\"text-align: right;\">  38</td><td style=\"text-align: right;\">   41</td><td style=\"text-align: right;\">   40</td><td style=\"text-align: right;\">       50</td><td style=\"text-align: right;\">       65</td><td style=\"text-align: right;\">     65</td><td>drought, flash-fire                  </td><td style=\"text-align: right;\">              60</td><td style=\"text-align: right;\">           9.9</td></tr>\n",
       "<tr><td style=\"text-align: right;\"> 38</td><td><img src='https://raw.githubusercontent.com/PokeAPI/sprites/master/sprites/pokemon/38.png' alt='ninetales' </td><td>ninetales </td><td>fire          </td><td style=\"text-align: right;\">  73</td><td style=\"text-align: right;\">   76</td><td style=\"text-align: right;\">   75</td><td style=\"text-align: right;\">       81</td><td style=\"text-align: right;\">      100</td><td style=\"text-align: right;\">    100</td><td>drought, flash-fire                  </td><td style=\"text-align: right;\">             110</td><td style=\"text-align: right;\">          19.9</td></tr>\n",
       "<tr><td style=\"text-align: right;\"> 39</td><td><img src='https://raw.githubusercontent.com/PokeAPI/sprites/master/sprites/pokemon/39.png' alt='jigglypuff'</td><td>jigglypuff</td><td>fairy, normal </td><td style=\"text-align: right;\"> 115</td><td style=\"text-align: right;\">   45</td><td style=\"text-align: right;\">   20</td><td style=\"text-align: right;\">       45</td><td style=\"text-align: right;\">       25</td><td style=\"text-align: right;\">     20</td><td>friend-guard, competitive, cute-charm</td><td style=\"text-align: right;\">              50</td><td style=\"text-align: right;\">           5.5</td></tr>\n",
       "<tr><td style=\"text-align: right;\"> 40</td><td><img src='https://raw.githubusercontent.com/PokeAPI/sprites/master/sprites/pokemon/40.png' alt='wigglytuff'</td><td>wigglytuff</td><td>fairy, normal </td><td style=\"text-align: right;\"> 140</td><td style=\"text-align: right;\">   70</td><td style=\"text-align: right;\">   45</td><td style=\"text-align: right;\">       85</td><td style=\"text-align: right;\">       50</td><td style=\"text-align: right;\">     45</td><td>frisk, competitive, cute-charm       </td><td style=\"text-align: right;\">             100</td><td style=\"text-align: right;\">          12  </td></tr>\n",
       "<tr><td style=\"text-align: right;\"> 41</td><td><img src='https://raw.githubusercontent.com/PokeAPI/sprites/master/sprites/pokemon/41.png' alt='zubat'     </td><td>zubat     </td><td>flying, poison</td><td style=\"text-align: right;\">  40</td><td style=\"text-align: right;\">   45</td><td style=\"text-align: right;\">   35</td><td style=\"text-align: right;\">       30</td><td style=\"text-align: right;\">       40</td><td style=\"text-align: right;\">     55</td><td>infiltrator, inner-focus             </td><td style=\"text-align: right;\">              80</td><td style=\"text-align: right;\">           7.5</td></tr>\n",
       "<tr><td style=\"text-align: right;\"> 42</td><td><img src='https://raw.githubusercontent.com/PokeAPI/sprites/master/sprites/pokemon/42.png' alt='golbat'    </td><td>golbat    </td><td>flying, poison</td><td style=\"text-align: right;\">  75</td><td style=\"text-align: right;\">   80</td><td style=\"text-align: right;\">   70</td><td style=\"text-align: right;\">       65</td><td style=\"text-align: right;\">       75</td><td style=\"text-align: right;\">     90</td><td>infiltrator, inner-focus             </td><td style=\"text-align: right;\">             160</td><td style=\"text-align: right;\">          55  </td></tr>\n",
       "<tr><td style=\"text-align: right;\"> 43</td><td><img src='https://raw.githubusercontent.com/PokeAPI/sprites/master/sprites/pokemon/43.png' alt='oddish'    </td><td>oddish    </td><td>poison, grass </td><td style=\"text-align: right;\">  45</td><td style=\"text-align: right;\">   50</td><td style=\"text-align: right;\">   55</td><td style=\"text-align: right;\">       75</td><td style=\"text-align: right;\">       65</td><td style=\"text-align: right;\">     30</td><td>run-away, chlorophyll                </td><td style=\"text-align: right;\">              50</td><td style=\"text-align: right;\">           5.4</td></tr>\n",
       "<tr><td style=\"text-align: right;\"> 44</td><td><img src='https://raw.githubusercontent.com/PokeAPI/sprites/master/sprites/pokemon/44.png' alt='gloom'     </td><td>gloom     </td><td>poison, grass </td><td style=\"text-align: right;\">  60</td><td style=\"text-align: right;\">   65</td><td style=\"text-align: right;\">   70</td><td style=\"text-align: right;\">       85</td><td style=\"text-align: right;\">       75</td><td style=\"text-align: right;\">     40</td><td>stench, chlorophyll                  </td><td style=\"text-align: right;\">              80</td><td style=\"text-align: right;\">           8.6</td></tr>\n",
       "<tr><td style=\"text-align: right;\"> 45</td><td><img src='https://raw.githubusercontent.com/PokeAPI/sprites/master/sprites/pokemon/45.png' alt='vileplume' </td><td>vileplume </td><td>poison, grass </td><td style=\"text-align: right;\">  75</td><td style=\"text-align: right;\">   80</td><td style=\"text-align: right;\">   85</td><td style=\"text-align: right;\">      110</td><td style=\"text-align: right;\">       90</td><td style=\"text-align: right;\">     50</td><td>effect-spore, chlorophyll            </td><td style=\"text-align: right;\">             120</td><td style=\"text-align: right;\">          18.6</td></tr>\n",
       "<tr><td style=\"text-align: right;\"> 46</td><td><img src='https://raw.githubusercontent.com/PokeAPI/sprites/master/sprites/pokemon/46.png' alt='paras'     </td><td>paras     </td><td>grass, bug    </td><td style=\"text-align: right;\">  35</td><td style=\"text-align: right;\">   70</td><td style=\"text-align: right;\">   55</td><td style=\"text-align: right;\">       45</td><td style=\"text-align: right;\">       55</td><td style=\"text-align: right;\">     25</td><td>damp, dry-skin, effect-spore         </td><td style=\"text-align: right;\">              30</td><td style=\"text-align: right;\">           5.4</td></tr>\n",
       "<tr><td style=\"text-align: right;\"> 47</td><td><img src='https://raw.githubusercontent.com/PokeAPI/sprites/master/sprites/pokemon/47.png' alt='parasect'  </td><td>parasect  </td><td>grass, bug    </td><td style=\"text-align: right;\">  60</td><td style=\"text-align: right;\">   95</td><td style=\"text-align: right;\">   80</td><td style=\"text-align: right;\">       60</td><td style=\"text-align: right;\">       80</td><td style=\"text-align: right;\">     30</td><td>damp, dry-skin, effect-spore         </td><td style=\"text-align: right;\">             100</td><td style=\"text-align: right;\">          29.5</td></tr>\n",
       "<tr><td style=\"text-align: right;\"> 48</td><td><img src='https://raw.githubusercontent.com/PokeAPI/sprites/master/sprites/pokemon/48.png' alt='venonat'   </td><td>venonat   </td><td>poison, bug   </td><td style=\"text-align: right;\">  60</td><td style=\"text-align: right;\">   55</td><td style=\"text-align: right;\">   50</td><td style=\"text-align: right;\">       40</td><td style=\"text-align: right;\">       55</td><td style=\"text-align: right;\">     45</td><td>run-away, tinted-lens, compound-eyes </td><td style=\"text-align: right;\">             100</td><td style=\"text-align: right;\">          30  </td></tr>\n",
       "<tr><td style=\"text-align: right;\"> 49</td><td><img src='https://raw.githubusercontent.com/PokeAPI/sprites/master/sprites/pokemon/49.png' alt='venomoth'  </td><td>venomoth  </td><td>poison, bug   </td><td style=\"text-align: right;\">  70</td><td style=\"text-align: right;\">   65</td><td style=\"text-align: right;\">   60</td><td style=\"text-align: right;\">       90</td><td style=\"text-align: right;\">       75</td><td style=\"text-align: right;\">     90</td><td>wonder-skin, tinted-lens, shield-dust</td><td style=\"text-align: right;\">             150</td><td style=\"text-align: right;\">          12.5</td></tr>\n",
       "</tbody>\n",
       "</table>"
      ],
      "text/plain": [
       "<IPython.core.display.HTML object>"
      ]
     },
     "metadata": {},
     "output_type": "display_data"
    }
   ],
   "source": [
    "from IPython.display import HTML, display\n",
    "import tabulate\n",
    "import pandas as pd\n",
    "\n",
    "content = [[\"#\", \"Sprite\", \"Name\", \"Types\", \n",
    "            \"HP\", \"Att\", \"Def\", \"Sp. Att\", \"Sp. Def\", \"Speed\", \n",
    "            \"Abilities\", \"Base Happiness\", \"Capture Rate\",\n",
    "            \"Height (cm)\", \"Weight (kg)\"]]\n",
    "with open(\"data/all_pokemons_info.csv\", \"r\") as csv_file:\n",
    "    csv_data = csv.reader(csv_file)\n",
    "    for index, info in enumerate(csv_data):\n",
    "        sprites, pokemon, types, hp, attack, defense, special_attack, special_defense, speed, abilities, height, weight = info\n",
    "        content.append([index + 1,\n",
    "                        f\"<img src='{sprites}' alt='{pokemon}'\",\n",
    "                        pokemon,\n",
    "                        types,\n",
    "                        hp,\n",
    "                        attack,\n",
    "                        defense,\n",
    "                        special_attack,\n",
    "                        special_defense,\n",
    "                        speed,\n",
    "                        abilities,\n",
    "                        height,\n",
    "                        weight,\n",
    "                       ])\n",
    "display(HTML(tabulate.tabulate(content[:50], \n",
    "                               headers='firstrow', \n",
    "                               tablefmt='html',\n",
    "                               \n",
    "                              )))"
   ]
  },
  {
   "cell_type": "markdown",
   "metadata": {},
   "source": [
    "# Print using JSON"
   ]
  },
  {
   "cell_type": "code",
   "execution_count": 10,
   "metadata": {},
   "outputs": [
    {
     "name": "stdout",
     "output_type": "stream",
     "text": [
      "deoxys, wormadam, giratina, shaymin, basculin, darmanitan, tornadus, thundurus, landorus, keldeo, meloetta, meowstic, aegislash, pumpkaboo, gourgeist, oricorio, lycanroc, wishiwashi, minior, mimikyu, "
     ]
    },
    {
     "data": {
      "text/html": [
       "<table>\n",
       "<thead>\n",
       "<tr><th style=\"text-align: right;\">  #</th><th>Sprite                                                                                                    </th><th>Name      </th><th>Types          </th><th style=\"text-align: right;\">  HP</th><th style=\"text-align: right;\">  Att</th><th style=\"text-align: right;\">  Def</th><th style=\"text-align: right;\">  Sp. Att</th><th style=\"text-align: right;\">  Sp. Def</th><th style=\"text-align: right;\">  Speed</th><th>Abilities              </th><th style=\"text-align: right;\">  Base Happiness</th><th style=\"text-align: right;\">  Capture Rate</th></tr>\n",
       "</thead>\n",
       "<tbody>\n",
       "<tr><td style=\"text-align: right;\">  1</td><td><img src='https://raw.githubusercontent.com/PokeAPI/sprites/master/sprites/pokemon/1.png' alt='bulbasaur' </td><td>bulbasaur </td><td>poison<br>grass</td><td style=\"text-align: right;\">  45</td><td style=\"text-align: right;\">   49</td><td style=\"text-align: right;\">   49</td><td style=\"text-align: right;\">       65</td><td style=\"text-align: right;\">       65</td><td style=\"text-align: right;\">     45</td><td>chlorophyll<br>overgrow</td><td style=\"text-align: right;\">              70</td><td style=\"text-align: right;\">           6.9</td></tr>\n",
       "<tr><td style=\"text-align: right;\">  2</td><td><img src='https://raw.githubusercontent.com/PokeAPI/sprites/master/sprites/pokemon/2.png' alt='ivysaur'   </td><td>ivysaur   </td><td>poison<br>grass</td><td style=\"text-align: right;\">  60</td><td style=\"text-align: right;\">   62</td><td style=\"text-align: right;\">   63</td><td style=\"text-align: right;\">       80</td><td style=\"text-align: right;\">       80</td><td style=\"text-align: right;\">     60</td><td>chlorophyll<br>overgrow</td><td style=\"text-align: right;\">             100</td><td style=\"text-align: right;\">          13  </td></tr>\n",
       "<tr><td style=\"text-align: right;\">  3</td><td><img src='https://raw.githubusercontent.com/PokeAPI/sprites/master/sprites/pokemon/3.png' alt='venusaur'  </td><td>venusaur  </td><td>poison<br>grass</td><td style=\"text-align: right;\">  80</td><td style=\"text-align: right;\">   82</td><td style=\"text-align: right;\">   83</td><td style=\"text-align: right;\">      100</td><td style=\"text-align: right;\">      100</td><td style=\"text-align: right;\">     80</td><td>chlorophyll<br>overgrow</td><td style=\"text-align: right;\">             200</td><td style=\"text-align: right;\">         100  </td></tr>\n",
       "<tr><td style=\"text-align: right;\">  4</td><td><img src='https://raw.githubusercontent.com/PokeAPI/sprites/master/sprites/pokemon/4.png' alt='charmander'</td><td>charmander</td><td>fire           </td><td style=\"text-align: right;\">  39</td><td style=\"text-align: right;\">   52</td><td style=\"text-align: right;\">   43</td><td style=\"text-align: right;\">       60</td><td style=\"text-align: right;\">       50</td><td style=\"text-align: right;\">     65</td><td>solar-power<br>blaze   </td><td style=\"text-align: right;\">              60</td><td style=\"text-align: right;\">           8.5</td></tr>\n",
       "</tbody>\n",
       "</table>"
      ],
      "text/plain": [
       "<IPython.core.display.HTML object>"
      ]
     },
     "metadata": {},
     "output_type": "display_data"
    }
   ],
   "source": [
    "from IPython.display import HTML, display\n",
    "import tabulate\n",
    "\n",
    "all_pokemons_info = json.load(open(\"data/all_pokemons_info.json\", \"r\"))\n",
    "\n",
    "content = [[\"#\", \"Sprite\", \"Name\", \"Types\", \n",
    "            \"HP\", \"Att\", \"Def\", \"Sp. Att\", \"Sp. Def\", \"Speed\", \n",
    "            \"Abilities\", \"Base Happiness\", \"Capture Rate\",\n",
    "            \"Height (cm)\", \"Weight (kg)\"]]\n",
    "for i, (pokemon, info) in enumerate(all_pokemons_info.items()):\n",
    "    try:\n",
    "        content.append([i+1,\n",
    "                        f\"<img src='{info['sprites']}' alt='{pokemon}'\",\n",
    "                        pokemon,\n",
    "                        \"<br>\".join(info[\"types\"]),\n",
    "                        info[\"hp\"],\n",
    "                        info[\"attack\"],\n",
    "                        info[\"defense\"],\n",
    "                        info[\"special-attack\"],\n",
    "                        info[\"special-defense\"],\n",
    "                        info[\"speed\"],\n",
    "                        \"<br>\".join(info[\"abilities\"]),\n",
    "                        info[\"height\"]*10,\n",
    "                        info[\"weight\"]/10,\n",
    "                     ])\n",
    "    except:\n",
    "        print(pokemon, end=\", \")\n",
    "\n",
    "display(HTML(tabulate.tabulate(content[:5], \n",
    "                               headers='firstrow', \n",
    "                               tablefmt='html',\n",
    "                               \n",
    "                              )))"
   ]
  },
  {
   "cell_type": "code",
   "execution_count": null,
   "metadata": {},
   "outputs": [],
   "source": []
  }
 ],
 "metadata": {
  "kernelspec": {
   "display_name": "Python 3",
   "language": "python",
   "name": "python3"
  },
  "language_info": {
   "codemirror_mode": {
    "name": "ipython",
    "version": 3
   },
   "file_extension": ".py",
   "mimetype": "text/x-python",
   "name": "python",
   "nbconvert_exporter": "python",
   "pygments_lexer": "ipython3",
   "version": "3.7.3"
  }
 },
 "nbformat": 4,
 "nbformat_minor": 4
}
