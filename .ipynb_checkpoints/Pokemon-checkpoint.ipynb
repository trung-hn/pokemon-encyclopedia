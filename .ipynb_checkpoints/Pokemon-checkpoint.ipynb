{
 "cells": [
  {
   "cell_type": "markdown",
   "metadata": {},
   "source": [
    "## In order to reduce the number of call of API, we decided to save this url to local.\n",
    "### Fixed limit: 100 API requests per IP address per minute"
   ]
  },
  {
   "cell_type": "code",
   "execution_count": 2,
   "metadata": {},
   "outputs": [],
   "source": [
    "import requests\n",
    "import json\n",
    "import collections\n",
    "import time\n",
    "import concurrent.futures\n",
    "import csv\n",
    "import functools\n",
    "from pprint import pprint\n",
    "from typing import List, Dict\n",
    "from IPython.display import clear_output"
   ]
  },
  {
   "cell_type": "markdown",
   "metadata": {},
   "source": [
    "Each pokemon has many different json files with different information. This will run through each pokemon in each json type (input) and save them as a csv file. This is how it looks like at the end:\n",
    "\n",
    "```\n",
    "bulbasaur,https://pokeapi.co/api/v2/pokemon-species/1/\n",
    "ivysaur,https://pokeapi.co/api/v2/pokemon-species/2/\n",
    "venusaur,https://pokeapi.co/api/v2/pokemon-species/3/\n",
    "charmander,https://pokeapi.co/api/v2/pokemon-species/4/\n",
    "charmeleon,https://pokeapi.co/api/v2/pokemon-species/5/\n",
    "charizard,https://pokeapi.co/api/v2/pokemon-species/6/\n",
    "squirtle,https://pokeapi.co/api/v2/pokemon-species/7/\n",
    "wartortle,https://pokeapi.co/api/v2/pokemon-species/8/\n",
    "blastoise,https://pokeapi.co/api/v2/pokemon-species/9/\n",
    "caterpie,https://pokeapi.co/api/v2/pokemon-species/10/\n",
    "...\n",
    "```\n"
   ]
  },
  {
   "cell_type": "code",
   "execution_count": 2,
   "metadata": {},
   "outputs": [],
   "source": [
    "def request_and_save_urls(json_type: str):\n",
    "    # Each url only has 20 pokemons\n",
    "    url = fr\"https://pokeapi.co/api/v2/{json_type}/\"\n",
    "    with open(f\"data/{json_type}/{json_type}-urls.csv\", \"w\") as file:\n",
    "        pokemon_url_writer = csv.writer(file, delimiter=\",\", lineterminator=\"\\n\")\n",
    "\n",
    "        while 1:\n",
    "            # Get urls of 20 pokemons\n",
    "            response = requests.get(url)\n",
    "            json_data = json.loads(response.text)\n",
    "\n",
    "            # Write to CSV file\n",
    "            for pokemon in json_data[\"results\"]:\n",
    "                pokemon_url_writer.writerow(list(pokemon.values()))\n",
    "\n",
    "            # Next 20 pokemons\n",
    "            url = json_data[\"next\"]\n",
    "            if not url: break"
   ]
  },
  {
   "cell_type": "markdown",
   "metadata": {},
   "source": [
    "### We want the following json files"
   ]
  },
  {
   "cell_type": "code",
   "execution_count": 4,
   "metadata": {},
   "outputs": [],
   "source": [
    "request_and_save_urls(\"pokemon\")\n",
    "request_and_save_urls(\"pokemon-species\")\n",
    "request_and_save_urls(\"type\")"
   ]
  },
  {
   "cell_type": "markdown",
   "metadata": {},
   "source": [
    "### Load the csv file and request each Pokemon\n",
    "This is used to fetch data from pokeAPI and save it locally. We load the CSV file earlier and request each Pokemon information. We group all information by type (pokemon_species, ...) and save it as a JSON file. However, because of the **fixed limit** on how many API can be called per minute (100), there is a delay in the code which make the total run time between 15-20 minutes\n",
    "\n",
    "We also have an exclusion list to exclude data that are not needed from the responsed JSON"
   ]
  },
  {
   "cell_type": "code",
   "execution_count": 6,
   "metadata": {},
   "outputs": [],
   "source": [
    "def request_and_cache(json_type, exclude: List[str]) -> None:\n",
    "    return_json = {}\n",
    "    \n",
    "    # Open csv file to get urls\n",
    "    pokemon_urls = list(csv.reader(open(f\"data/{json_type}/{json_type}-urls.csv\", \"r\"), delimiter=\",\"))\n",
    "    \n",
    "    # Request each url and save as 1 big json file\n",
    "    for i, (pokemon_name, pokemon_url) in enumerate(pokemon_urls):\n",
    "        clear_output()\n",
    "        print(f\"{i}. Working on type: '{json_type}', pokemon: {pokemon_name}\")\n",
    "        pokemon_json = json.loads(requests.get(pokemon_url).text)\n",
    "        \n",
    "        # To reduce the file size, we exclude some parts of json_data\n",
    "        return_json[pokemon_name] = {k:v for k, v in pokemon_json.items() if k not in exclude}\n",
    "        \n",
    "        # Make sure not to exceed to API limit\n",
    "        time.sleep(1)\n",
    "    json.dump(return_json, open(f\"data/{json_type}/{json_type}.json\", \"w\"))"
   ]
  },
  {
   "cell_type": "markdown",
   "metadata": {},
   "source": [
    "We use multithreading to make this process faster"
   ]
  },
  {
   "cell_type": "code",
   "execution_count": 4,
   "metadata": {},
   "outputs": [
    {
     "name": "stdout",
     "output_type": "stream",
     "text": [
      "963. Working on type: 'pokemon', pokemon: necrozma-ultra\n"
     ]
    }
   ],
   "source": [
    "with concurrent.futures.ThreadPoolExecutor(max_workers=2) as executor:\n",
    "    for json_type, exclude in [(\"pokemon\", [\"game_indices\", \n",
    "                                            \"moves\", \n",
    "                                            ]), \n",
    "                               (\"pokemon-species\", [\"genera\", \n",
    "                                                    \"names\", \n",
    "                                                    \"pokedex_numbers\", \n",
    "                                                    \"varieties\", \n",
    "                                                    \"flavor_text_entries\",\n",
    "                                                   ]),\n",
    "                               (\"type\", [\"game_indices\", \n",
    "                                         \"generation\", \n",
    "                                         \"id\",\n",
    "                                         \"move_damage_class\",\n",
    "                                         \"moves\",\n",
    "                                         \"names\",\n",
    "                                         \"pokemon\"\n",
    "                                            ]),\n",
    "                               ]:\n",
    "        temp = functools.partial(request_and_cache, exclude=exclude)\n",
    "        executor.map(temp, [json_type])"
   ]
  },
  {
   "cell_type": "code",
   "execution_count": 7,
   "metadata": {},
   "outputs": [
    {
     "name": "stdout",
     "output_type": "stream",
     "text": [
      "19. Working on type: 'type', pokemon: shadow\n"
     ]
    }
   ],
   "source": [
    "with concurrent.futures.ThreadPoolExecutor(max_workers=2) as executor:\n",
    "    for json_type, exclude in [\n",
    "                               ]:\n",
    "        temp = functools.partial(request_and_cache, exclude=exclude)\n",
    "        executor.map(temp, [json_type])"
   ]
  },
  {
   "cell_type": "markdown",
   "metadata": {},
   "source": [
    "### Load Pokemon Json files and Analyse"
   ]
  },
  {
   "cell_type": "markdown",
   "metadata": {},
   "source": [
    "#### Pokemon"
   ]
  },
  {
   "cell_type": "code",
   "execution_count": 5,
   "metadata": {
    "scrolled": true
   },
   "outputs": [],
   "source": [
    "all_pokemons_info = collections.defaultdict(dict)\n",
    "\n",
    "pokemon_json = json.load(open(\"data/pokemon/pokemon.json\", \"r\"))\n",
    "for pokemon, info in pokemon_json.items():\n",
    "    pokemon_info = all_pokemons_info[pokemon]\n",
    "    \n",
    "    # Get height, weight, name\n",
    "    for key in (\"height\", \"weight\", \"name\"):\n",
    "        pokemon_info[key] = info[key]\n",
    "        \n",
    "    # Get 6 stats (hp, att, def, sp. att, sp. def) for pokemon\n",
    "    for stats in info[\"stats\"]:\n",
    "        pokemon_info[stats[\"stat\"][\"name\"]] = stats[\"base_stat\"]\n",
    "    \n",
    "    # Get list of abilities\n",
    "    pokemon_info[\"abilities\"] = [ability[\"ability\"][\"name\"] for ability in info[\"abilities\"]]\n",
    "    \n",
    "    # Get Pokemon Image\n",
    "    pokemon_info[\"sprites\"] = info[\"sprites\"][\"front_default\"]\n",
    "    \n",
    "    # Get Pokemon Types\n",
    "    pokemon_info[\"types\"] = [type_[\"type\"][\"name\"] for type_ in info[\"types\"]]\n",
    "    \n",
    "    # Get Pokemon Species Name\n",
    "    pokemon_info[\"species\"] = info[\"species\"][\"name\"]"
   ]
  },
  {
   "cell_type": "markdown",
   "metadata": {},
   "source": [
    "#### Pokemon Species"
   ]
  },
  {
   "cell_type": "code",
   "execution_count": 33,
   "metadata": {},
   "outputs": [],
   "source": [
    "pokemon_species_json = json.load(open(\"data/pokemon-species/pokemon-species.json\", \"r\"))\n",
    "for pokemon, info in pokemon_species_json.items():\n",
    "    pokemon_info = all_pokemons_info[pokemon]\n",
    "    \n",
    "    # Get basic info\n",
    "    for key in (\"base_happiness\", \"capture_rate\", \"gender_rate\"):\n",
    "        pokemon_info[key] = info[key]\n",
    "    \n",
    "    # Get list of egg groups\n",
    "    pokemon_info[\"egg_groups\"] = [group[\"name\"] for group in info[\"egg_groups\"]]\n",
    "    \n",
    "    # Get Evolution Chain\n",
    "    if info[\"evolves_from_species\"]:\n",
    "        pokemon_info[\"evolves_from\"] = info[\"evolves_from_species\"][\"name\"]\n",
    "        prev_pokemon = all_pokemons_info[pokemon_info[\"evolves_from\"]]\n",
    "        prev_pokemon[\"evolve_to\"] = prev_pokemon.get(\"evolve_to\", []) + [pokemon]    \n",
    "        \n",
    "    # Get basic info. These info are in a dictionary\n",
    "    for key in (\"color\", \"growth_rate\", \"habitat\", \"shape\"):\n",
    "        if info[key]: pokemon_info[key] = info[key][\"name\"]\n",
    "            \n",
    "    # Get Generation. Format: \"generation-iii\". Need to convert to uppercase Roman numerals\n",
    "    pokemon_info[\"generation\"] = info[\"generation\"][\"name\"].split(\"-\")[-1].upper()\n",
    "    "
   ]
  },
  {
   "cell_type": "markdown",
   "metadata": {},
   "source": [
    "### Save data as a JSON file"
   ]
  },
  {
   "cell_type": "code",
   "execution_count": 34,
   "metadata": {},
   "outputs": [],
   "source": [
    "json.dump(all_pokemons_info, open(\"data/all_pokemons_info.json\", \"w\"))"
   ]
  },
  {
   "cell_type": "markdown",
   "metadata": {},
   "source": [
    "### Create CSV file from JSON."
   ]
  },
  {
   "cell_type": "code",
   "execution_count": 8,
   "metadata": {},
   "outputs": [
    {
     "name": "stdout",
     "output_type": "stream",
     "text": [
      "deoxys, wormadam, giratina, shaymin, basculin, darmanitan, tornadus, thundurus, landorus, keldeo, meloetta, meowstic, aegislash, pumpkaboo, gourgeist, oricorio, lycanroc, wishiwashi, minior, mimikyu, "
     ]
    }
   ],
   "source": [
    "all_pokemons_info_csv = []\n",
    "\n",
    "with open(\"data/all_pokemons_info.csv\", \"w\") as csv_file:\n",
    "    writer = csv.writer(csv_file, delimiter=\",\", lineterminator=\"\\n\")\n",
    "    for pokemon, info in all_pokemons_info.items():\n",
    "        try:\n",
    "            writer.writerow([info[\"sprites\"],\n",
    "                             pokemon,\n",
    "                             \", \".join(info[\"types\"]),\n",
    "                             info[\"hp\"],\n",
    "                             info[\"attack\"],\n",
    "                             info[\"defense\"],\n",
    "                             info[\"special-attack\"],\n",
    "                             info[\"special-defense\"],\n",
    "                             info[\"speed\"],\n",
    "                             \", \".join(info[\"abilities\"]),\n",
    "    #                         info[\"base_happiness\"],\n",
    "    #                         info[\"capture_rate\"],\n",
    "                             info[\"height\"]*10,\n",
    "                             info[\"weight\"]/10,])\n",
    "        except:\n",
    "            print(pokemon, end=\", \")\n",
    "    \n",
    "        "
   ]
  },
  {
   "cell_type": "markdown",
   "metadata": {},
   "source": [
    "# Print using CSV"
   ]
  },
  {
   "cell_type": "code",
   "execution_count": 41,
   "metadata": {},
   "outputs": [
    {
     "data": {
      "text/html": [
       "<table>\n",
       "<thead>\n",
       "<tr><th style=\"text-align: right;\">  #</th><th>Sprite                                                                                                    </th><th>Name      </th><th>Types        </th><th style=\"text-align: right;\">  HP</th><th style=\"text-align: right;\">  Att</th><th style=\"text-align: right;\">  Def</th><th style=\"text-align: right;\">  Sp. Att</th><th style=\"text-align: right;\">  Sp. Def</th><th style=\"text-align: right;\">  Speed</th><th>Abilities            </th><th style=\"text-align: right;\">  Height (cm)</th><th style=\"text-align: right;\">  Weight (kg)</th></tr>\n",
       "</thead>\n",
       "<tbody>\n",
       "<tr><td style=\"text-align: right;\">  1</td><td><img src='https://raw.githubusercontent.com/PokeAPI/sprites/master/sprites/pokemon/1.png' alt='bulbasaur' </td><td>bulbasaur </td><td>poison, grass</td><td style=\"text-align: right;\">  45</td><td style=\"text-align: right;\">   49</td><td style=\"text-align: right;\">   49</td><td style=\"text-align: right;\">       65</td><td style=\"text-align: right;\">       65</td><td style=\"text-align: right;\">     45</td><td>chlorophyll, overgrow</td><td style=\"text-align: right;\">           70</td><td style=\"text-align: right;\">          6.9</td></tr>\n",
       "<tr><td style=\"text-align: right;\">  2</td><td><img src='https://raw.githubusercontent.com/PokeAPI/sprites/master/sprites/pokemon/2.png' alt='ivysaur'   </td><td>ivysaur   </td><td>poison, grass</td><td style=\"text-align: right;\">  60</td><td style=\"text-align: right;\">   62</td><td style=\"text-align: right;\">   63</td><td style=\"text-align: right;\">       80</td><td style=\"text-align: right;\">       80</td><td style=\"text-align: right;\">     60</td><td>chlorophyll, overgrow</td><td style=\"text-align: right;\">          100</td><td style=\"text-align: right;\">         13  </td></tr>\n",
       "<tr><td style=\"text-align: right;\">  3</td><td><img src='https://raw.githubusercontent.com/PokeAPI/sprites/master/sprites/pokemon/3.png' alt='venusaur'  </td><td>venusaur  </td><td>poison, grass</td><td style=\"text-align: right;\">  80</td><td style=\"text-align: right;\">   82</td><td style=\"text-align: right;\">   83</td><td style=\"text-align: right;\">      100</td><td style=\"text-align: right;\">      100</td><td style=\"text-align: right;\">     80</td><td>chlorophyll, overgrow</td><td style=\"text-align: right;\">          200</td><td style=\"text-align: right;\">        100  </td></tr>\n",
       "<tr><td style=\"text-align: right;\">  4</td><td><img src='https://raw.githubusercontent.com/PokeAPI/sprites/master/sprites/pokemon/4.png' alt='charmander'</td><td>charmander</td><td>fire         </td><td style=\"text-align: right;\">  39</td><td style=\"text-align: right;\">   52</td><td style=\"text-align: right;\">   43</td><td style=\"text-align: right;\">       60</td><td style=\"text-align: right;\">       50</td><td style=\"text-align: right;\">     65</td><td>solar-power, blaze   </td><td style=\"text-align: right;\">           60</td><td style=\"text-align: right;\">          8.5</td></tr>\n",
       "<tr><td style=\"text-align: right;\">  5</td><td><img src='https://raw.githubusercontent.com/PokeAPI/sprites/master/sprites/pokemon/5.png' alt='charmeleon'</td><td>charmeleon</td><td>fire         </td><td style=\"text-align: right;\">  58</td><td style=\"text-align: right;\">   64</td><td style=\"text-align: right;\">   58</td><td style=\"text-align: right;\">       80</td><td style=\"text-align: right;\">       65</td><td style=\"text-align: right;\">     80</td><td>solar-power, blaze   </td><td style=\"text-align: right;\">          110</td><td style=\"text-align: right;\">         19  </td></tr>\n",
       "<tr><td style=\"text-align: right;\">  6</td><td><img src='https://raw.githubusercontent.com/PokeAPI/sprites/master/sprites/pokemon/6.png' alt='charizard' </td><td>charizard </td><td>flying, fire </td><td style=\"text-align: right;\">  78</td><td style=\"text-align: right;\">   84</td><td style=\"text-align: right;\">   78</td><td style=\"text-align: right;\">      109</td><td style=\"text-align: right;\">       85</td><td style=\"text-align: right;\">    100</td><td>solar-power, blaze   </td><td style=\"text-align: right;\">          170</td><td style=\"text-align: right;\">         90.5</td></tr>\n",
       "<tr><td style=\"text-align: right;\">  7</td><td><img src='https://raw.githubusercontent.com/PokeAPI/sprites/master/sprites/pokemon/7.png' alt='squirtle'  </td><td>squirtle  </td><td>water        </td><td style=\"text-align: right;\">  44</td><td style=\"text-align: right;\">   48</td><td style=\"text-align: right;\">   65</td><td style=\"text-align: right;\">       50</td><td style=\"text-align: right;\">       64</td><td style=\"text-align: right;\">     43</td><td>rain-dish, torrent   </td><td style=\"text-align: right;\">           50</td><td style=\"text-align: right;\">          9  </td></tr>\n",
       "<tr><td style=\"text-align: right;\">  8</td><td><img src='https://raw.githubusercontent.com/PokeAPI/sprites/master/sprites/pokemon/8.png' alt='wartortle' </td><td>wartortle </td><td>water        </td><td style=\"text-align: right;\">  59</td><td style=\"text-align: right;\">   63</td><td style=\"text-align: right;\">   80</td><td style=\"text-align: right;\">       65</td><td style=\"text-align: right;\">       80</td><td style=\"text-align: right;\">     58</td><td>rain-dish, torrent   </td><td style=\"text-align: right;\">          100</td><td style=\"text-align: right;\">         22.5</td></tr>\n",
       "<tr><td style=\"text-align: right;\">  9</td><td><img src='https://raw.githubusercontent.com/PokeAPI/sprites/master/sprites/pokemon/9.png' alt='blastoise' </td><td>blastoise </td><td>water        </td><td style=\"text-align: right;\">  79</td><td style=\"text-align: right;\">   83</td><td style=\"text-align: right;\">  100</td><td style=\"text-align: right;\">       85</td><td style=\"text-align: right;\">      105</td><td style=\"text-align: right;\">     78</td><td>rain-dish, torrent   </td><td style=\"text-align: right;\">          160</td><td style=\"text-align: right;\">         85.5</td></tr>\n",
       "</tbody>\n",
       "</table>"
      ],
      "text/plain": [
       "<IPython.core.display.HTML object>"
      ]
     },
     "metadata": {},
     "output_type": "display_data"
    }
   ],
   "source": [
    "from IPython.display import HTML, display\n",
    "import tabulate\n",
    "import pandas as pd\n",
    "\n",
    "content = [[\"#\", \"Sprite\", \"Name\", \"Types\", \n",
    "            \"HP\", \"Att\", \"Def\", \"Sp. Att\", \"Sp. Def\", \"Speed\", \n",
    "            \"Abilities\",\n",
    "            \"Height (cm)\", \"Weight (kg)\"]]\n",
    "with open(\"data/all_pokemons_info.csv\", \"r\") as csv_file:\n",
    "    csv_data = csv.reader(csv_file)\n",
    "    for index, info in enumerate(csv_data):\n",
    "        sprites, pokemon, types, hp, attack, defense, special_attack, special_defense, speed, abilities, height, weight = info\n",
    "        content.append([index + 1,\n",
    "                        f\"<img src='{sprites}' alt='{pokemon}'\",\n",
    "                        pokemon,\n",
    "                        types,\n",
    "                        hp,\n",
    "                        attack,\n",
    "                        defense,\n",
    "                        special_attack,\n",
    "                        special_defense,\n",
    "                        speed,\n",
    "                        abilities,\n",
    "                        height,\n",
    "                        weight,\n",
    "                       ])\n",
    "display(HTML(tabulate.tabulate(content[:10], \n",
    "                               headers='firstrow', \n",
    "                               tablefmt='html',\n",
    "                               \n",
    "                              )))"
   ]
  },
  {
   "cell_type": "markdown",
   "metadata": {},
   "source": [
    "# Print using JSON"
   ]
  },
  {
   "cell_type": "code",
   "execution_count": 59,
   "metadata": {},
   "outputs": [
    {
     "name": "stdout",
     "output_type": "stream",
     "text": [
      "deoxys, wormadam, giratina, shaymin, basculin, darmanitan, tornadus, thundurus, landorus, keldeo, meloetta, meowstic, aegislash, pumpkaboo, gourgeist, oricorio, lycanroc, wishiwashi, minior, mimikyu, "
     ]
    },
    {
     "data": {
      "text/html": [
       "<table>\n",
       "<thead>\n",
       "<tr><th style=\"text-align: center;\"> # </th><th style=\"text-align: center;\">                                                  Sprite                                                   </th><th style=\"text-align: center;\">   Name   </th><th style=\"text-align: center;\"> Species  </th><th style=\"text-align: center;\">     Types      </th><th style=\"text-align: center;\"> HP </th><th style=\"text-align: center;\"> Att </th><th style=\"text-align: center;\"> Def </th><th style=\"text-align: center;\"> Sp. Att </th><th style=\"text-align: center;\"> Sp. Def </th><th style=\"text-align: center;\"> Speed </th><th style=\"text-align: center;\">              Abilities              </th><th style=\"text-align: center;\"> Height (cm) </th><th style=\"text-align: center;\"> Weight (kg) </th><th style=\"text-align: center;\"> Capture Rate </th><th style=\"text-align: center;\"> Base Happiness </th><th style=\"text-align: center;\"> Growth Rate </th><th style=\"text-align: center;\"> Generation </th></tr>\n",
       "</thead>\n",
       "<tbody>\n",
       "<tr><td style=\"text-align: center;\"> 3 </td><td style=\"text-align: center;\"> <img src='https://raw.githubusercontent.com/PokeAPI/sprites/master/sprites/pokemon/3.png' alt='venusaur'  </td><td style=\"text-align: center;\"> venusaur </td><td style=\"text-align: center;\"> venusaur </td><td style=\"text-align: center;\">poison<br>grass </td><td style=\"text-align: center;\"> 80 </td><td style=\"text-align: center;\"> 82  </td><td style=\"text-align: center;\"> 83  </td><td style=\"text-align: center;\">   100   </td><td style=\"text-align: center;\">   100   </td><td style=\"text-align: center;\">  80   </td><td style=\"text-align: center;\">       chlorophyll<br>overgrow       </td><td style=\"text-align: center;\">     200     </td><td style=\"text-align: center;\">     100     </td><td style=\"text-align: center;\">      45      </td><td style=\"text-align: center;\">       70       </td><td style=\"text-align: center;\"> medium-slow </td><td style=\"text-align: center;\">     I      </td></tr>\n",
       "<tr><td style=\"text-align: center;\"> 6 </td><td style=\"text-align: center;\"> <img src='https://raw.githubusercontent.com/PokeAPI/sprites/master/sprites/pokemon/6.png' alt='charizard' </td><td style=\"text-align: center;\">charizard </td><td style=\"text-align: center;\">charizard </td><td style=\"text-align: center;\"> flying<br>fire </td><td style=\"text-align: center;\"> 78 </td><td style=\"text-align: center;\"> 84  </td><td style=\"text-align: center;\"> 78  </td><td style=\"text-align: center;\">   109   </td><td style=\"text-align: center;\">   85    </td><td style=\"text-align: center;\">  100  </td><td style=\"text-align: center;\">        solar-power<br>blaze         </td><td style=\"text-align: center;\">     170     </td><td style=\"text-align: center;\">    90.5     </td><td style=\"text-align: center;\">      45      </td><td style=\"text-align: center;\">       70       </td><td style=\"text-align: center;\"> medium-slow </td><td style=\"text-align: center;\">     I      </td></tr>\n",
       "<tr><td style=\"text-align: center;\"> 9 </td><td style=\"text-align: center;\"> <img src='https://raw.githubusercontent.com/PokeAPI/sprites/master/sprites/pokemon/9.png' alt='blastoise' </td><td style=\"text-align: center;\">blastoise </td><td style=\"text-align: center;\">blastoise </td><td style=\"text-align: center;\">     water      </td><td style=\"text-align: center;\"> 79 </td><td style=\"text-align: center;\"> 83  </td><td style=\"text-align: center;\"> 100 </td><td style=\"text-align: center;\">   85    </td><td style=\"text-align: center;\">   105   </td><td style=\"text-align: center;\">  78   </td><td style=\"text-align: center;\">        rain-dish<br>torrent         </td><td style=\"text-align: center;\">     160     </td><td style=\"text-align: center;\">    85.5     </td><td style=\"text-align: center;\">      45      </td><td style=\"text-align: center;\">       70       </td><td style=\"text-align: center;\"> medium-slow </td><td style=\"text-align: center;\">     I      </td></tr>\n",
       "<tr><td style=\"text-align: center;\">12 </td><td style=\"text-align: center;\"><img src='https://raw.githubusercontent.com/PokeAPI/sprites/master/sprites/pokemon/12.png' alt='butterfree'</td><td style=\"text-align: center;\">butterfree</td><td style=\"text-align: center;\">butterfree</td><td style=\"text-align: center;\"> flying<br>bug  </td><td style=\"text-align: center;\"> 60 </td><td style=\"text-align: center;\"> 45  </td><td style=\"text-align: center;\"> 50  </td><td style=\"text-align: center;\">   90    </td><td style=\"text-align: center;\">   80    </td><td style=\"text-align: center;\">  70   </td><td style=\"text-align: center;\">    tinted-lens<br>compound-eyes     </td><td style=\"text-align: center;\">     110     </td><td style=\"text-align: center;\">     32      </td><td style=\"text-align: center;\">      45      </td><td style=\"text-align: center;\">       70       </td><td style=\"text-align: center;\">   medium    </td><td style=\"text-align: center;\">     I      </td></tr>\n",
       "<tr><td style=\"text-align: center;\">15 </td><td style=\"text-align: center;\"> <img src='https://raw.githubusercontent.com/PokeAPI/sprites/master/sprites/pokemon/15.png' alt='beedrill' </td><td style=\"text-align: center;\"> beedrill </td><td style=\"text-align: center;\"> beedrill </td><td style=\"text-align: center;\"> poison<br>bug  </td><td style=\"text-align: center;\"> 65 </td><td style=\"text-align: center;\"> 90  </td><td style=\"text-align: center;\"> 40  </td><td style=\"text-align: center;\">   45    </td><td style=\"text-align: center;\">   80    </td><td style=\"text-align: center;\">  75   </td><td style=\"text-align: center;\">           sniper<br>swarm           </td><td style=\"text-align: center;\">     100     </td><td style=\"text-align: center;\">    29.5     </td><td style=\"text-align: center;\">      45      </td><td style=\"text-align: center;\">       70       </td><td style=\"text-align: center;\">   medium    </td><td style=\"text-align: center;\">     I      </td></tr>\n",
       "<tr><td style=\"text-align: center;\">18 </td><td style=\"text-align: center;\"> <img src='https://raw.githubusercontent.com/PokeAPI/sprites/master/sprites/pokemon/18.png' alt='pidgeot'  </td><td style=\"text-align: center;\"> pidgeot  </td><td style=\"text-align: center;\"> pidgeot  </td><td style=\"text-align: center;\">flying<br>normal</td><td style=\"text-align: center;\"> 83 </td><td style=\"text-align: center;\"> 80  </td><td style=\"text-align: center;\"> 75  </td><td style=\"text-align: center;\">   70    </td><td style=\"text-align: center;\">   70    </td><td style=\"text-align: center;\">  101  </td><td style=\"text-align: center;\">big-pecks<br>tangled-feet<br>keen-eye</td><td style=\"text-align: center;\">     150     </td><td style=\"text-align: center;\">    39.5     </td><td style=\"text-align: center;\">      45      </td><td style=\"text-align: center;\">       70       </td><td style=\"text-align: center;\"> medium-slow </td><td style=\"text-align: center;\">     I      </td></tr>\n",
       "<tr><td style=\"text-align: center;\">21 </td><td style=\"text-align: center;\"> <img src='https://raw.githubusercontent.com/PokeAPI/sprites/master/sprites/pokemon/21.png' alt='spearow'  </td><td style=\"text-align: center;\"> spearow  </td><td style=\"text-align: center;\"> spearow  </td><td style=\"text-align: center;\">flying<br>normal</td><td style=\"text-align: center;\"> 40 </td><td style=\"text-align: center;\"> 60  </td><td style=\"text-align: center;\"> 30  </td><td style=\"text-align: center;\">   31    </td><td style=\"text-align: center;\">   31    </td><td style=\"text-align: center;\">  70   </td><td style=\"text-align: center;\">         sniper<br>keen-eye          </td><td style=\"text-align: center;\">     30      </td><td style=\"text-align: center;\">      2      </td><td style=\"text-align: center;\">     255      </td><td style=\"text-align: center;\">       70       </td><td style=\"text-align: center;\">   medium    </td><td style=\"text-align: center;\">     I      </td></tr>\n",
       "<tr><td style=\"text-align: center;\">24 </td><td style=\"text-align: center;\">  <img src='https://raw.githubusercontent.com/PokeAPI/sprites/master/sprites/pokemon/24.png' alt='arbok'   </td><td style=\"text-align: center;\">  arbok   </td><td style=\"text-align: center;\">  arbok   </td><td style=\"text-align: center;\">     poison     </td><td style=\"text-align: center;\"> 60 </td><td style=\"text-align: center;\"> 95  </td><td style=\"text-align: center;\"> 69  </td><td style=\"text-align: center;\">   65    </td><td style=\"text-align: center;\">   79    </td><td style=\"text-align: center;\">  80   </td><td style=\"text-align: center;\"> unnerve<br>shed-skin<br>intimidate  </td><td style=\"text-align: center;\">     350     </td><td style=\"text-align: center;\">     65      </td><td style=\"text-align: center;\">      90      </td><td style=\"text-align: center;\">       70       </td><td style=\"text-align: center;\">   medium    </td><td style=\"text-align: center;\">     I      </td></tr>\n",
       "<tr><td style=\"text-align: center;\">27 </td><td style=\"text-align: center;\"><img src='https://raw.githubusercontent.com/PokeAPI/sprites/master/sprites/pokemon/27.png' alt='sandshrew' </td><td style=\"text-align: center;\">sandshrew </td><td style=\"text-align: center;\">sandshrew </td><td style=\"text-align: center;\">     ground     </td><td style=\"text-align: center;\"> 50 </td><td style=\"text-align: center;\"> 75  </td><td style=\"text-align: center;\"> 85  </td><td style=\"text-align: center;\">   20    </td><td style=\"text-align: center;\">   30    </td><td style=\"text-align: center;\">  40   </td><td style=\"text-align: center;\">       sand-rush<br>sand-veil        </td><td style=\"text-align: center;\">     60      </td><td style=\"text-align: center;\">     12      </td><td style=\"text-align: center;\">     255      </td><td style=\"text-align: center;\">       70       </td><td style=\"text-align: center;\">   medium    </td><td style=\"text-align: center;\">     I      </td></tr>\n",
       "<tr><td style=\"text-align: center;\">30 </td><td style=\"text-align: center;\"> <img src='https://raw.githubusercontent.com/PokeAPI/sprites/master/sprites/pokemon/30.png' alt='nidorina' </td><td style=\"text-align: center;\"> nidorina </td><td style=\"text-align: center;\"> nidorina </td><td style=\"text-align: center;\">     poison     </td><td style=\"text-align: center;\"> 70 </td><td style=\"text-align: center;\"> 62  </td><td style=\"text-align: center;\"> 67  </td><td style=\"text-align: center;\">   55    </td><td style=\"text-align: center;\">   55    </td><td style=\"text-align: center;\">  56   </td><td style=\"text-align: center;\">  hustle<br>rivalry<br>poison-point  </td><td style=\"text-align: center;\">     80      </td><td style=\"text-align: center;\">     20      </td><td style=\"text-align: center;\">     120      </td><td style=\"text-align: center;\">       70       </td><td style=\"text-align: center;\"> medium-slow </td><td style=\"text-align: center;\">     I      </td></tr>\n",
       "<tr><td style=\"text-align: center;\">33 </td><td style=\"text-align: center;\"> <img src='https://raw.githubusercontent.com/PokeAPI/sprites/master/sprites/pokemon/33.png' alt='nidorino' </td><td style=\"text-align: center;\"> nidorino </td><td style=\"text-align: center;\"> nidorino </td><td style=\"text-align: center;\">     poison     </td><td style=\"text-align: center;\"> 61 </td><td style=\"text-align: center;\"> 72  </td><td style=\"text-align: center;\"> 57  </td><td style=\"text-align: center;\">   55    </td><td style=\"text-align: center;\">   55    </td><td style=\"text-align: center;\">  65   </td><td style=\"text-align: center;\">  hustle<br>rivalry<br>poison-point  </td><td style=\"text-align: center;\">     90      </td><td style=\"text-align: center;\">    19.5     </td><td style=\"text-align: center;\">     120      </td><td style=\"text-align: center;\">       70       </td><td style=\"text-align: center;\"> medium-slow </td><td style=\"text-align: center;\">     I      </td></tr>\n",
       "<tr><td style=\"text-align: center;\">36 </td><td style=\"text-align: center;\"> <img src='https://raw.githubusercontent.com/PokeAPI/sprites/master/sprites/pokemon/36.png' alt='clefable' </td><td style=\"text-align: center;\"> clefable </td><td style=\"text-align: center;\"> clefable </td><td style=\"text-align: center;\">     fairy      </td><td style=\"text-align: center;\"> 95 </td><td style=\"text-align: center;\"> 70  </td><td style=\"text-align: center;\"> 73  </td><td style=\"text-align: center;\">   95    </td><td style=\"text-align: center;\">   90    </td><td style=\"text-align: center;\">  60   </td><td style=\"text-align: center;\">unaware<br>magic-guard<br>cute-charm </td><td style=\"text-align: center;\">     130     </td><td style=\"text-align: center;\">     40      </td><td style=\"text-align: center;\">      25      </td><td style=\"text-align: center;\">      140       </td><td style=\"text-align: center;\">    fast     </td><td style=\"text-align: center;\">     I      </td></tr>\n",
       "</tbody>\n",
       "</table>"
      ],
      "text/plain": [
       "<IPython.core.display.HTML object>"
      ]
     },
     "metadata": {},
     "output_type": "display_data"
    }
   ],
   "source": [
    "from IPython.display import HTML, display\n",
    "import tabulate\n",
    "\n",
    "all_pokemons_info = json.load(open(\"data/all_pokemons_info.json\", \"r\"))\n",
    "all_pokemons_info = {k:collections.defaultdict(lambda:None, v) for k,v in all_pokemons_info.items()}\n",
    "content = [[\"#\", \"Sprite\", \"Name\", \"Species\", \"Types\", \n",
    "            \"HP\", \"Att\", \"Def\", \"Sp. Att\", \"Sp. Def\", \"Speed\", \n",
    "             \"Abilities\", \"Height (cm)\", \"Weight (kg)\",\n",
    "            \"Capture Rate\", \"Base Happiness\",\n",
    "            \"Growth Rate\", \"Generation\"]]\n",
    "for i, (pokemon, info) in enumerate(all_pokemons_info.items()):\n",
    "    try:\n",
    "        content.append([i+1,\n",
    "                        f\"<img src='{info['sprites']}' alt='{pokemon}'\",\n",
    "                        pokemon,\n",
    "                        info[\"species\"],\n",
    "                        \"<br>\".join(info[\"types\"]),\n",
    "                        info[\"hp\"],\n",
    "                        info[\"attack\"],\n",
    "                        info[\"defense\"],\n",
    "                        info[\"special-attack\"],\n",
    "                        info[\"special-defense\"],\n",
    "                        info[\"speed\"],\n",
    "                        \"<br>\".join(info[\"abilities\"]),\n",
    "                        info[\"height\"]*10,\n",
    "                        info[\"weight\"]/10,\n",
    "                        info[\"capture_rate\"],\n",
    "                        info[\"base_happiness\"],\n",
    "                        info[\"growth_rate\"],\n",
    "                        info[\"generation\"],\n",
    "                     ])\n",
    "    except:\n",
    "        print(pokemon, end=\", \")\n",
    "\n",
    "display(HTML(tabulate.tabulate(content[:37:3], \n",
    "                               headers='firstrow', \n",
    "                               tablefmt='html',\n",
    "                               numalign='center',\n",
    "                               stralign='center',\n",
    "                               \n",
    "                              )))"
   ]
  },
  {
   "cell_type": "code",
   "execution_count": null,
   "metadata": {},
   "outputs": [],
   "source": []
  }
 ],
 "metadata": {
  "kernelspec": {
   "display_name": "Python 3",
   "language": "python",
   "name": "python3"
  },
  "language_info": {
   "codemirror_mode": {
    "name": "ipython",
    "version": 3
   },
   "file_extension": ".py",
   "mimetype": "text/x-python",
   "name": "python",
   "nbconvert_exporter": "python",
   "pygments_lexer": "ipython3",
   "version": "3.7.3"
  }
 },
 "nbformat": 4,
 "nbformat_minor": 4
}
