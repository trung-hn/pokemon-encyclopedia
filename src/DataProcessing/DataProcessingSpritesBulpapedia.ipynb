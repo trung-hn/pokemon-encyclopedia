{
 "cells": [
  {
   "cell_type": "code",
   "execution_count": 6,
   "metadata": {},
   "outputs": [],
   "source": [
    "# External Libraries\n",
    "import skimage.io\n",
    "import numpy as np\n",
    "from PIL import Image\n",
    "from sklearn.cluster import KMeans\n",
    "from IPython.display import clear_output\n",
    "\n",
    "# Builtin libraries\n",
    "import os\n",
    "import math\n",
    "import json\n",
    "import time\n",
    "import pathlib\n",
    "import zipfile\n",
    "import itertools\n",
    "import functools\n",
    "import collections\n",
    "import concurrent.futures\n",
    "from pprint import pprint\n",
    "from threading import RLock\n",
    "\n",
    "DB_PATH = \"../DataScraping/data/pokemon_sprites_bulbapedia/\""
   ]
  },
  {
   "cell_type": "markdown",
   "metadata": {},
   "source": [
    "# Nonogramize the image using skimage and np\n",
    "- Use Kmeans to reduce number of palletes to essential colors, then replace old color with nearest colors from the new pallete\n",
    "- Create nonogram array for each number of palletes (3, 5, 7) and then save."
   ]
  },
  {
   "cell_type": "code",
   "execution_count": 7,
   "metadata": {},
   "outputs": [],
   "source": [
    "def reduce_color_palette(im, n_colors=8, n_init=256, max_iter=500, tol=0.00001):\n",
    "    \"\"\"\n",
    "    Reduce color palette using K-means\n",
    "    n_colors: number of colors in the final image\n",
    "    \"\"\"\n",
    "    im = np.copy(im)\n",
    "    # Transform image to array\n",
    "    w,h,z = im.shape\n",
    "    im = im.reshape(w*h,z)\n",
    "    \n",
    "    # Train model\n",
    "    kmeans = KMeans(n_clusters=n_colors, \n",
    "                    n_init=n_init, \n",
    "                    max_iter=max_iter, \n",
    "                    tol=tol,\n",
    "                    random_state=0,\n",
    "                   ).fit(im)\n",
    "    \n",
    "    # find out which cluster each pixel belongs to.\n",
    "    labels = kmeans.predict(im)\n",
    "    \n",
    "    # the cluster centroids is our color palette\n",
    "    identified_palette = np.array(kmeans.cluster_centers_).astype(int)\n",
    "    \n",
    "    # recolor the entire image\n",
    "    recolored_img = np.copy(im)\n",
    "    for index in range(len(im)):\n",
    "        im[index] = identified_palette[labels[index]]\n",
    "    \n",
    "    # reshape for display\n",
    "    im = im.reshape(w,h,z)\n",
    "    \n",
    "    return im\n",
    "\n",
    "def get_colored_pixel_rectangle(im):\n",
    "    \"\"\"\n",
    "    return First Row, Last Row, First Column, Last Column as a tuple\n",
    "    \"\"\"\n",
    "    f_row = l_row = f_col = l_col = None\n",
    "    for r, row in enumerate(im):\n",
    "        for c, p in enumerate(row):\n",
    "            pixel = \"#\" + \"\".join(f\"{c:02x}\" for c in p)\n",
    "            if pixel[1:6:2] == \"fff\": continue\n",
    "            if pixel[1:6:2] == \"000\": continue\n",
    "            if f_row is None: f_row = r\n",
    "            l_row = r\n",
    "            if f_col is None or c < f_col: f_col = c\n",
    "            if l_col is None or c > l_col: l_col = c\n",
    "    return (f_row, l_row, f_col, l_col)\n",
    "\n",
    "def get_row_counts(im):\n",
    "    \"\"\"\n",
    "    return the groupby() of rows as dictionary\n",
    "    \"\"\"\n",
    "    rows_count = {}\n",
    "    for r in range(len(im)):\n",
    "        count = []\n",
    "        row = [\"#\" + \"\".join(f\"{c:02x}\" for c in p) for p in im[r,:]]\n",
    "        for k, grp in itertools.groupby(row):\n",
    "            count.append((k, len(list(grp))))\n",
    "        rows_count[r] = count\n",
    "\n",
    "    for k, count in rows_count.items():\n",
    "        rows_count[k] = list(filter(lambda x:x[0][1:6:2] not in (\"fff\", \"000\"), \n",
    "                                    count))\n",
    "    return rows_count\n",
    "\n",
    "def get_col_counts(im):\n",
    "    \"\"\"\n",
    "    return the groupby() of cols as dictionary\n",
    "    \"\"\"\n",
    "    cols_count = {}\n",
    "    for c in range(len(im[0,:])):\n",
    "        count = []\n",
    "        col = [\"#\" + \"\".join(f\"{c:02x}\" for c in p) for p in im[:,c]]\n",
    "        for k, grp in itertools.groupby(col):\n",
    "            count.append((k, len(list(grp))))\n",
    "        cols_count[c] = count\n",
    "\n",
    "    for k, count in cols_count.items():\n",
    "        cols_count[k] = list(filter(lambda x:x[0][1:6:2] not in (\"fff\", \"000\"), \n",
    "                                    count,))\n",
    "    return cols_count\n",
    "\n",
    "def generate_nonogram_by_size(image_path, verbose=False):\n",
    "    \"\"\"\n",
    "    Creating nonogram for 1 image\n",
    "    \"\"\"\n",
    "    image = skimage.io.imread(image_path)[:,:,:-1] # to Exclude alpha\n",
    "    image = crop_image(image)\n",
    "    nonogram_by_ncolor = {}\n",
    "    for n_color in (3, 5, 7):\n",
    "        im = reduce_color_palette(image, n_colors=n_color, n_init=256, max_iter=500, tol=1e-05)\n",
    "        rows_count = get_row_counts(im)\n",
    "        cols_count = get_col_counts(im)\n",
    "        nonogram_by_ncolor[n_color] = [rows_count, cols_count]\n",
    "    \n",
    "#     with lock:\n",
    "#         nonogram[image_path.rsplit(\"/\",1)[-1]]=nonogram_by_ncolor\n",
    "    if verbose:\n",
    "        print(f\"Done with {image_path}\")\n",
    "    return nonogram_by_ncolor\n",
    "\n",
    "def crop_image(im):\n",
    "    \"\"\"\n",
    "    Crop empty rows and columns\n",
    "    \"\"\"\n",
    "    (f_row, l_row, f_col, l_col) = get_colored_pixel_rectangle(im)\n",
    "    return im[f_row:l_row+1, f_col:l_col+1]\n",
    "\n",
    "# WIP\n",
    "def multithread(image_paths=[], no_threads=16, verbose=False):\n",
    "    \"\"\"\n",
    "    Multithreading creating nonogram\n",
    "    \"\"\"\n",
    "    nonogram = {}\n",
    "    lock = RLock()\n",
    "    with concurrent.futures.ThreadPoolExecutor(max_workers=no_threads) as executor:\n",
    "        partial_func = functools.partial(generate_nonogram_by_size, nonogram=nonogram, lock=lock, verbose=verbose)\n",
    "        executor.map(partial_func, image_paths)\n",
    "    return nonogram\n"
   ]
  },
  {
   "cell_type": "markdown",
   "metadata": {},
   "source": [
    "## Create Nonogram (Test Run)"
   ]
  },
  {
   "cell_type": "code",
   "execution_count": 8,
   "metadata": {},
   "outputs": [
    {
     "name": "stdout",
     "output_type": "stream",
     "text": [
      "Original Image\n"
     ]
    },
    {
     "data": {
      "image/png": "[encoded data removed]",
      "text/plain": [
       "<Figure size 432x288 with 1 Axes>"
      ]
     },
     "metadata": {
      "needs_background": "light"
     },
     "output_type": "display_data"
    },
    {
     "name": "stdout",
     "output_type": "stream",
     "text": [
      "Image with 2 color pallettes (Not including white)\n"
     ]
    },
    {
     "data": {
      "image/png": "[encoded data removed]",
      "text/plain": [
       "<Figure size 432x288 with 1 Axes>"
      ]
     },
     "metadata": {
      "needs_background": "light"
     },
     "output_type": "display_data"
    },
    {
     "name": "stdout",
     "output_type": "stream",
     "text": [
      "Image with 4 color pallettes (Not including white)\n"
     ]
    },
    {
     "data": {
      "image/png": "[encoded data removed]",
      "text/plain": [
       "<Figure size 432x288 with 1 Axes>"
      ]
     },
     "metadata": {
      "needs_background": "light"
     },
     "output_type": "display_data"
    },
    {
     "name": "stdout",
     "output_type": "stream",
     "text": [
      "Image with 6 color pallettes (Not including white)\n"
     ]
    },
    {
     "data": {
      "image/png": "[encoded data removed]",
      "text/plain": [
       "<Figure size 432x288 with 1 Axes>"
      ]
     },
     "metadata": {
      "needs_background": "light"
     },
     "output_type": "display_data"
    }
   ],
   "source": [
    "im = skimage.io.imread(\"../DataScraping/data/pokemon_sprites_bulbapedia/009_Blastoise.png\")\n",
    "im = crop_image(im)\n",
    "print(\"Original Image\")\n",
    "skimage.io.imshow(im)\n",
    "skimage.io.show()\n",
    "for no in 3, 5, 7:\n",
    "    print(f\"Image with {no - 1} color pallettes (Not including white)\")\n",
    "    im1 = reduce_color_palette(im[:,:,:-1], no) # im[:,:,:-1] to Exclude alpha\n",
    "    skimage.io.imshow(im1)\n",
    "    skimage.io.show()\n",
    "# generate_nonogram_by_size(\"../DataScraping/data/pokemon_sprites_bulbapedia/009_Blastoise.png\")\n"
   ]
  },
  {
   "cell_type": "markdown",
   "metadata": {},
   "source": [
    "## Create Nonogram (Actual Run)"
   ]
  },
  {
   "cell_type": "code",
   "execution_count": 78,
   "metadata": {
    "collapsed": true,
    "jupyter": {
     "outputs_hidden": true
    }
   },
   "outputs": [
    {
     "name": "stdout",
     "output_type": "stream",
     "text": [
      "Done with ../DataScraping/data/pokemon_sprites_bulbapedia/001_Bulbasaur.png\n",
      "Done with ../DataScraping/data/pokemon_sprites_bulbapedia/002_Ivysaur.png\n",
      "Done with ../DataScraping/data/pokemon_sprites_bulbapedia/003_Venusaur.png\n",
      "Done with ../DataScraping/data/pokemon_sprites_bulbapedia/004_Charmander.png\n"
     ]
    },
    {
     "ename": "KeyboardInterrupt",
     "evalue": "",
     "output_type": "error",
     "traceback": [
      "\u001b[1;31m---------------------------------------------------------------------------\u001b[0m",
      "\u001b[1;31mKeyboardInterrupt\u001b[0m                         Traceback (most recent call last)",
      "\u001b[1;32m<ipython-input-78-e061c3a7048c>\u001b[0m in \u001b[0;36m<module>\u001b[1;34m\u001b[0m\n\u001b[0;32m      2\u001b[0m \u001b[1;32mfor\u001b[0m \u001b[0mi\u001b[0m\u001b[1;33m,\u001b[0m \u001b[0mfile\u001b[0m \u001b[1;32min\u001b[0m \u001b[0menumerate\u001b[0m\u001b[1;33m(\u001b[0m\u001b[0mos\u001b[0m\u001b[1;33m.\u001b[0m\u001b[0mlistdir\u001b[0m\u001b[1;33m(\u001b[0m\u001b[0mDB_PATH\u001b[0m\u001b[1;33m)\u001b[0m\u001b[1;33m)\u001b[0m\u001b[1;33m:\u001b[0m\u001b[1;33m\u001b[0m\u001b[1;33m\u001b[0m\u001b[0m\n\u001b[0;32m      3\u001b[0m     \u001b[1;32mif\u001b[0m \u001b[0mi\u001b[0m \u001b[1;33m%\u001b[0m \u001b[1;36m10\u001b[0m \u001b[1;33m==\u001b[0m \u001b[1;36m0\u001b[0m\u001b[1;33m:\u001b[0m \u001b[0mclear_output\u001b[0m\u001b[1;33m(\u001b[0m\u001b[1;33m)\u001b[0m\u001b[1;33m\u001b[0m\u001b[1;33m\u001b[0m\u001b[0m\n\u001b[1;32m----> 4\u001b[1;33m     \u001b[0mnonogram_by_ncolor\u001b[0m \u001b[1;33m=\u001b[0m \u001b[0mgenerate_nonogram_by_size\u001b[0m\u001b[1;33m(\u001b[0m\u001b[0mDB_PATH\u001b[0m \u001b[1;33m+\u001b[0m \u001b[0mfile\u001b[0m\u001b[1;33m,\u001b[0m \u001b[1;32mTrue\u001b[0m\u001b[1;33m)\u001b[0m\u001b[1;33m\u001b[0m\u001b[1;33m\u001b[0m\u001b[0m\n\u001b[0m\u001b[0;32m      5\u001b[0m     \u001b[0mnonogram\u001b[0m\u001b[1;33m[\u001b[0m\u001b[0mfile\u001b[0m\u001b[1;33m]\u001b[0m \u001b[1;33m=\u001b[0m \u001b[0mnonogram_by_ncolor\u001b[0m\u001b[1;33m\u001b[0m\u001b[1;33m\u001b[0m\u001b[0m\n\u001b[0;32m      6\u001b[0m \u001b[0mprint\u001b[0m\u001b[1;33m(\u001b[0m\u001b[1;34mf\"Finish nonogramize all sprites\"\u001b[0m\u001b[1;33m)\u001b[0m\u001b[1;33m\u001b[0m\u001b[1;33m\u001b[0m\u001b[0m\n",
      "\u001b[1;32m<ipython-input-72-4c665b122b88>\u001b[0m in \u001b[0;36mgenerate_nonogram_by_size\u001b[1;34m(image_path, verbose)\u001b[0m\n\u001b[0;32m     91\u001b[0m     \u001b[0mnonogram_by_ncolor\u001b[0m \u001b[1;33m=\u001b[0m \u001b[1;33m{\u001b[0m\u001b[1;33m}\u001b[0m\u001b[1;33m\u001b[0m\u001b[1;33m\u001b[0m\u001b[0m\n\u001b[0;32m     92\u001b[0m     \u001b[1;32mfor\u001b[0m \u001b[0mn_color\u001b[0m \u001b[1;32min\u001b[0m \u001b[1;33m(\u001b[0m\u001b[1;36m3\u001b[0m\u001b[1;33m,\u001b[0m \u001b[1;36m5\u001b[0m\u001b[1;33m,\u001b[0m \u001b[1;36m7\u001b[0m\u001b[1;33m)\u001b[0m\u001b[1;33m:\u001b[0m\u001b[1;33m\u001b[0m\u001b[1;33m\u001b[0m\u001b[0m\n\u001b[1;32m---> 93\u001b[1;33m         \u001b[0mim\u001b[0m \u001b[1;33m=\u001b[0m \u001b[0mreduce_color_palette\u001b[0m\u001b[1;33m(\u001b[0m\u001b[0mimage\u001b[0m\u001b[1;33m,\u001b[0m \u001b[0mn_colors\u001b[0m\u001b[1;33m=\u001b[0m\u001b[0mn_color\u001b[0m\u001b[1;33m,\u001b[0m \u001b[0mn_init\u001b[0m\u001b[1;33m=\u001b[0m\u001b[1;36m256\u001b[0m\u001b[1;33m,\u001b[0m \u001b[0mmax_iter\u001b[0m\u001b[1;33m=\u001b[0m\u001b[1;36m500\u001b[0m\u001b[1;33m,\u001b[0m \u001b[0mtol\u001b[0m\u001b[1;33m=\u001b[0m\u001b[1;36m1e-05\u001b[0m\u001b[1;33m)\u001b[0m\u001b[1;33m\u001b[0m\u001b[1;33m\u001b[0m\u001b[0m\n\u001b[0m\u001b[0;32m     94\u001b[0m         \u001b[0mrows_count\u001b[0m \u001b[1;33m=\u001b[0m \u001b[0mget_row_counts\u001b[0m\u001b[1;33m(\u001b[0m\u001b[0mim\u001b[0m\u001b[1;33m)\u001b[0m\u001b[1;33m\u001b[0m\u001b[1;33m\u001b[0m\u001b[0m\n\u001b[0;32m     95\u001b[0m         \u001b[0mcols_count\u001b[0m \u001b[1;33m=\u001b[0m \u001b[0mget_col_counts\u001b[0m\u001b[1;33m(\u001b[0m\u001b[0mim\u001b[0m\u001b[1;33m)\u001b[0m\u001b[1;33m\u001b[0m\u001b[1;33m\u001b[0m\u001b[0m\n",
      "\u001b[1;32m<ipython-input-72-4c665b122b88>\u001b[0m in \u001b[0;36mreduce_color_palette\u001b[1;34m(im, n_colors, n_init, max_iter, tol)\u001b[0m\n\u001b[0;32m     15\u001b[0m                     \u001b[0mtol\u001b[0m\u001b[1;33m=\u001b[0m\u001b[0mtol\u001b[0m\u001b[1;33m,\u001b[0m\u001b[1;33m\u001b[0m\u001b[1;33m\u001b[0m\u001b[0m\n\u001b[0;32m     16\u001b[0m                     \u001b[0mrandom_state\u001b[0m\u001b[1;33m=\u001b[0m\u001b[1;36m0\u001b[0m\u001b[1;33m,\u001b[0m\u001b[1;33m\u001b[0m\u001b[1;33m\u001b[0m\u001b[0m\n\u001b[1;32m---> 17\u001b[1;33m                    ).fit(im)\n\u001b[0m\u001b[0;32m     18\u001b[0m \u001b[1;33m\u001b[0m\u001b[0m\n\u001b[0;32m     19\u001b[0m     \u001b[1;31m# find out which cluster each pixel belongs to.\u001b[0m\u001b[1;33m\u001b[0m\u001b[1;33m\u001b[0m\u001b[1;33m\u001b[0m\u001b[0m\n",
      "\u001b[1;32mc:\\users\\trung\\appdata\\local\\programs\\python\\python37\\lib\\site-packages\\sklearn\\cluster\\_kmeans.py\u001b[0m in \u001b[0;36mfit\u001b[1;34m(self, X, y, sample_weight)\u001b[0m\n\u001b[0;32m    863\u001b[0m                 _num_samples(X), self.n_clusters))\n\u001b[0;32m    864\u001b[0m \u001b[1;33m\u001b[0m\u001b[0m\n\u001b[1;32m--> 865\u001b[1;33m         \u001b[0mtol\u001b[0m \u001b[1;33m=\u001b[0m \u001b[0m_tolerance\u001b[0m\u001b[1;33m(\u001b[0m\u001b[0mX\u001b[0m\u001b[1;33m,\u001b[0m \u001b[0mself\u001b[0m\u001b[1;33m.\u001b[0m\u001b[0mtol\u001b[0m\u001b[1;33m)\u001b[0m\u001b[1;33m\u001b[0m\u001b[1;33m\u001b[0m\u001b[0m\n\u001b[0m\u001b[0;32m    866\u001b[0m \u001b[1;33m\u001b[0m\u001b[0m\n\u001b[0;32m    867\u001b[0m         \u001b[1;31m# If the distances are precomputed every job will create a matrix of\u001b[0m\u001b[1;33m\u001b[0m\u001b[1;33m\u001b[0m\u001b[1;33m\u001b[0m\u001b[0m\n",
      "\u001b[1;32mc:\\users\\trung\\appdata\\local\\programs\\python\\python37\\lib\\site-packages\\sklearn\\cluster\\_kmeans.py\u001b[0m in \u001b[0;36m_tolerance\u001b[1;34m(X, tol)\u001b[0m\n\u001b[0;32m    157\u001b[0m         \u001b[0mvariances\u001b[0m \u001b[1;33m=\u001b[0m \u001b[0mmean_variance_axis\u001b[0m\u001b[1;33m(\u001b[0m\u001b[0mX\u001b[0m\u001b[1;33m,\u001b[0m \u001b[0maxis\u001b[0m\u001b[1;33m=\u001b[0m\u001b[1;36m0\u001b[0m\u001b[1;33m)\u001b[0m\u001b[1;33m[\u001b[0m\u001b[1;36m1\u001b[0m\u001b[1;33m]\u001b[0m\u001b[1;33m\u001b[0m\u001b[1;33m\u001b[0m\u001b[0m\n\u001b[0;32m    158\u001b[0m     \u001b[1;32melse\u001b[0m\u001b[1;33m:\u001b[0m\u001b[1;33m\u001b[0m\u001b[1;33m\u001b[0m\u001b[0m\n\u001b[1;32m--> 159\u001b[1;33m         \u001b[0mvariances\u001b[0m \u001b[1;33m=\u001b[0m \u001b[0mnp\u001b[0m\u001b[1;33m.\u001b[0m\u001b[0mvar\u001b[0m\u001b[1;33m(\u001b[0m\u001b[0mX\u001b[0m\u001b[1;33m,\u001b[0m \u001b[0maxis\u001b[0m\u001b[1;33m=\u001b[0m\u001b[1;36m0\u001b[0m\u001b[1;33m)\u001b[0m\u001b[1;33m\u001b[0m\u001b[1;33m\u001b[0m\u001b[0m\n\u001b[0m\u001b[0;32m    160\u001b[0m     \u001b[1;32mreturn\u001b[0m \u001b[0mnp\u001b[0m\u001b[1;33m.\u001b[0m\u001b[0mmean\u001b[0m\u001b[1;33m(\u001b[0m\u001b[0mvariances\u001b[0m\u001b[1;33m)\u001b[0m \u001b[1;33m*\u001b[0m \u001b[0mtol\u001b[0m\u001b[1;33m\u001b[0m\u001b[1;33m\u001b[0m\u001b[0m\n\u001b[0;32m    161\u001b[0m \u001b[1;33m\u001b[0m\u001b[0m\n",
      "\u001b[1;32mc:\\users\\trung\\appdata\\local\\programs\\python\\python37\\lib\\site-packages\\numpy\\core\\fromnumeric.py\u001b[0m in \u001b[0;36mvar\u001b[1;34m(a, axis, dtype, out, ddof, keepdims)\u001b[0m\n\u001b[0;32m   3365\u001b[0m \u001b[1;33m\u001b[0m\u001b[0m\n\u001b[0;32m   3366\u001b[0m     return _methods._var(a, axis=axis, dtype=dtype, out=out, ddof=ddof,\n\u001b[1;32m-> 3367\u001b[1;33m                          **kwargs)\n\u001b[0m\u001b[0;32m   3368\u001b[0m \u001b[1;33m\u001b[0m\u001b[0m\n\u001b[0;32m   3369\u001b[0m \u001b[1;33m\u001b[0m\u001b[0m\n",
      "\u001b[1;32mc:\\users\\trung\\appdata\\local\\programs\\python\\python37\\lib\\site-packages\\numpy\\core\\_methods.py\u001b[0m in \u001b[0;36m_var\u001b[1;34m(a, axis, dtype, out, ddof, keepdims)\u001b[0m\n\u001b[0;32m    120\u001b[0m     \u001b[1;32melse\u001b[0m\u001b[1;33m:\u001b[0m\u001b[1;33m\u001b[0m\u001b[1;33m\u001b[0m\u001b[0m\n\u001b[0;32m    121\u001b[0m         \u001b[0mx\u001b[0m \u001b[1;33m=\u001b[0m \u001b[0mum\u001b[0m\u001b[1;33m.\u001b[0m\u001b[0mmultiply\u001b[0m\u001b[1;33m(\u001b[0m\u001b[0mx\u001b[0m\u001b[1;33m,\u001b[0m \u001b[0mx\u001b[0m\u001b[1;33m,\u001b[0m \u001b[0mout\u001b[0m\u001b[1;33m=\u001b[0m\u001b[0mx\u001b[0m\u001b[1;33m)\u001b[0m\u001b[1;33m\u001b[0m\u001b[1;33m\u001b[0m\u001b[0m\n\u001b[1;32m--> 122\u001b[1;33m     \u001b[0mret\u001b[0m \u001b[1;33m=\u001b[0m \u001b[0mumr_sum\u001b[0m\u001b[1;33m(\u001b[0m\u001b[0mx\u001b[0m\u001b[1;33m,\u001b[0m \u001b[0maxis\u001b[0m\u001b[1;33m,\u001b[0m \u001b[0mdtype\u001b[0m\u001b[1;33m,\u001b[0m \u001b[0mout\u001b[0m\u001b[1;33m,\u001b[0m \u001b[0mkeepdims\u001b[0m\u001b[1;33m)\u001b[0m\u001b[1;33m\u001b[0m\u001b[1;33m\u001b[0m\u001b[0m\n\u001b[0m\u001b[0;32m    123\u001b[0m \u001b[1;33m\u001b[0m\u001b[0m\n\u001b[0;32m    124\u001b[0m     \u001b[1;31m# Compute degrees of freedom and make sure it is not negative.\u001b[0m\u001b[1;33m\u001b[0m\u001b[1;33m\u001b[0m\u001b[1;33m\u001b[0m\u001b[0m\n",
      "\u001b[1;31mKeyboardInterrupt\u001b[0m: "
     ]
    }
   ],
   "source": [
    "nonogram = {}\n",
    "for i, file in enumerate(os.listdir(DB_PATH)):\n",
    "    if i % 10 == 0: clear_output()\n",
    "    nonogram_by_ncolor = generate_nonogram_by_size(DB_PATH + file, True)\n",
    "    nonogram[file] = nonogram_by_ncolor\n",
    "print(f\"Finish nonogramize all sprites\")"
   ]
  },
  {
   "cell_type": "code",
   "execution_count": 50,
   "metadata": {},
   "outputs": [],
   "source": [
    "with open(\"./data/nonogram_bulbapedia.json\", \"w\") as f:\n",
    "    json.dump(nonogram, f)"
   ]
  },
  {
   "cell_type": "markdown",
   "metadata": {},
   "source": [
    "# Export Pokemon images with new palletes"
   ]
  },
  {
   "cell_type": "code",
   "execution_count": 11,
   "metadata": {},
   "outputs": [
    {
     "name": "stdout",
     "output_type": "stream",
     "text": [
      "Done with ../DataScraping/data/pokemon_sprites_bulbapedia/892_1_Urshifu.png\n",
      "Done with ../DataScraping/data/pokemon_sprites_bulbapedia/892_Urshifu.png\n",
      "Done with ../DataScraping/data/pokemon_sprites_bulbapedia/893_Zarude.png\n",
      "Done with ../DataScraping/data/pokemon_sprites_bulbapedia/894_Regieleki.png\n",
      "Done with ../DataScraping/data/pokemon_sprites_bulbapedia/895_Regidrago.png\n",
      "Done with ../DataScraping/data/pokemon_sprites_bulbapedia/896_Glastrier.png\n",
      "Done with ../DataScraping/data/pokemon_sprites_bulbapedia/897_Spectrier.png\n",
      "Done with ../DataScraping/data/pokemon_sprites_bulbapedia/898_1_Calyrex.png\n",
      "Done with ../DataScraping/data/pokemon_sprites_bulbapedia/898_2_Calyrex.png\n",
      "Done with ../DataScraping/data/pokemon_sprites_bulbapedia/898_Calyrex.png\n",
      "Finish all sprites\n"
     ]
    }
   ],
   "source": [
    "def convert_color_to_string(im):\n",
    "    \"\"\"\n",
    "    Convert color from numpy array to format #ffffff\n",
    "    \"\"\"\n",
    "    new_im = []\n",
    "    for r, row in enumerate(im):\n",
    "        cur = []\n",
    "        for c, p in enumerate(row):\n",
    "            pixel = \"#\" + \"\".join(f\"{c:02x}\" for c in p)\n",
    "            if pixel[1:6:2] == \"fff\": pixel = \"w\"\n",
    "            if pixel[1:6:2] == \"000\": pixel = \"b\"\n",
    "            cur.append(pixel)\n",
    "        new_im.append(cur)\n",
    "    \n",
    "        \n",
    "    return new_im\n",
    "\n",
    "def group_colors(im_str):\n",
    "    \"\"\"\n",
    "    Return the group by of rows as dictionary (including white and black)\n",
    "    \"\"\"\n",
    "    rows_count = {}\n",
    "    for r, row in enumerate(im_str):\n",
    "        count = []\n",
    "        for k, grp in itertools.groupby(row):\n",
    "            count.append((k, len(list(grp))))\n",
    "        rows_count[r] = count\n",
    "    return rows_count\n",
    "\n",
    "def convert_images_to_string(image_path, verbose=False):\n",
    "    \"\"\"\n",
    "    For each reduces pallete, convert image to string\n",
    "    \"\"\"\n",
    "    image = skimage.io.imread(image_path)[:,:,:-1] # to Exclude alpha\n",
    "    image = crop_image(image)\n",
    "    image_str_by_ncolor = {}\n",
    "    image_str_by_ncolor[\"SIZE\"] = (len(image), len(image[0,:]))\n",
    "    for n_colors in (3, 5, 7):\n",
    "        im = reduce_color_palette(image, n_colors) # im[:,:,:-1] to Exclude alpha\n",
    "        im_str = convert_color_to_string(im)\n",
    "        rows_count = group_colors(im_str)\n",
    "        image_str_by_ncolor[n_colors] = rows_count\n",
    "        \n",
    "    if verbose:\n",
    "        print(f\"Done with {image_path}\")\n",
    "    return image_str_by_ncolor\n",
    "\n",
    "image_str_by_pokemon = {}\n",
    "for i, file in enumerate(os.listdir(DB_PATH)):\n",
    "    if i and i % 10 == 0: clear_output()\n",
    "    image_str_by_ncolor = convert_images_to_string(DB_PATH + file, True)\n",
    "    image_str_by_pokemon[file] = image_str_by_ncolor\n",
    "print(f\"Finish all sprites\")"
   ]
  },
  {
   "cell_type": "code",
   "execution_count": 12,
   "metadata": {},
   "outputs": [],
   "source": [
    "with open(\"./data/image_str_bulbapedia.json\", \"w\") as f:\n",
    "    json.dump(image_str_by_pokemon, f)"
   ]
  },
  {
   "cell_type": "markdown",
   "metadata": {},
   "source": [
    "## nonogramize the image using PIL (old)"
   ]
  },
  {
   "cell_type": "code",
   "execution_count": 3,
   "metadata": {},
   "outputs": [
    {
     "data": {
      "image/png": "[encoded data removed]",
      "text/plain": [
       "<PIL.Image.Image image mode=RGBA size=320x320 at 0x1F7E49A15C0>"
      ]
     },
     "execution_count": 3,
     "metadata": {},
     "output_type": "execute_result"
    }
   ],
   "source": [
    "im = Image.open(\"../DataScraping/data/pokemon_sprites_bulbapedia/009_Blastoise.png\")\n",
    "\n",
    "im = im.convert(\"RGBA\", palette=Image.ADAPTIVE, colors=256)\n",
    "# im = im.convert('P', palette=Image.WEB, colors=12)\n",
    "# im = im.convert('P', dither=Image.NONE, palette=Image.ADAPTIVE, colors=5)\n",
    "# im = im.convert(\"RGBA\", palette=Image.ADAPTIVE, colors=256)\n",
    "pix = im.load()\n",
    "W, H = im.size\n",
    "\n",
    "# Resize to view\n",
    "ratio = math.ceil(300/W)\n",
    "im.resize([W * ratio, H * ratio], resample=Image.NEAREST)"
   ]
  },
  {
   "cell_type": "markdown",
   "metadata": {},
   "source": [
    "#### Find start and end row/col"
   ]
  },
  {
   "cell_type": "code",
   "execution_count": 3,
   "metadata": {},
   "outputs": [
    {
     "name": "stdout",
     "output_type": "stream",
     "text": [
      "8 31 7 31\n"
     ]
    }
   ],
   "source": [
    "# First and Last Row/Column\n",
    "f_row = l_row = f_col = l_col = None\n",
    "for y in range(H):\n",
    "    for x in range(W):\n",
    "        if pix[x, y] == (255, 255, 255, 0): continue\n",
    "        if not f_row: f_row = y\n",
    "        l_row = y\n",
    "        if not f_col or x < f_col: f_col = x\n",
    "        if not l_col or x > l_col: l_col = x\n",
    "print(f_row, l_row, f_col, l_col)"
   ]
  },
  {
   "cell_type": "code",
   "execution_count": 4,
   "metadata": {},
   "outputs": [],
   "source": [
    "# Count color freq\n",
    "rows_count = {}\n",
    "for y in range(f_row, l_row + 1):\n",
    "    count = []\n",
    "    row = []\n",
    "    for x in range(f_col, l_col + 1):\n",
    "        p = pix[x, y]\n",
    "        row.append(\"#%02x%02x%02x%02x\"%(p[0], p[1], p[2], p[3]))\n",
    "    for k, grp in itertools.groupby(row):\n",
    "        count.append((k, len(list(grp))))\n",
    "    rows_count[y] = count\n",
    "    \n",
    "for k, count in rows_count.items():\n",
    "    rows_count[k] = list(filter(lambda x: x[0] != \"#ffffff00\", count))\n",
    "# pprint(rows_count, compact=True)"
   ]
  }
 ],
 "metadata": {
  "kernelspec": {
   "display_name": "Python 3",
   "language": "python",
   "name": "python3"
  },
  "language_info": {
   "codemirror_mode": {
    "name": "ipython",
    "version": 3
   },
   "file_extension": ".py",
   "mimetype": "text/x-python",
   "name": "python",
   "nbconvert_exporter": "python",
   "pygments_lexer": "ipython3",
   "version": "3.7.3"
  }
 },
 "nbformat": 4,
 "nbformat_minor": 4
}
