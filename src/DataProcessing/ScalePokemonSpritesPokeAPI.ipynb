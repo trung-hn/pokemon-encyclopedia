{
 "cells": [
  {
   "cell_type": "code",
   "execution_count": 5,
   "metadata": {},
   "outputs": [],
   "source": [
    "# External Libraries\n",
    "from PIL import Image\n",
    "import os\n",
    "import math\n",
    "import pathlib\n",
    "from IPython.display import Image\n",
    "import collections"
   ]
  },
  {
   "cell_type": "code",
   "execution_count": 44,
   "metadata": {},
   "outputs": [
    {
     "data": {
      "image/png": "[encoded data removed]",
      "text/plain": [
       "<PIL.Image.Image image mode=P size=2208x2208 at 0x27788C411D0>"
      ]
     },
     "execution_count": 44,
     "metadata": {},
     "output_type": "execute_result"
    }
   ],
   "source": [
    "# Make directries (recursively) if not exist.\n",
    "pathlib.Path(\"./data/pokemon_scaled_sprites/\").mkdir(parents=True, exist_ok=True)\n",
    "\n",
    "# Interger scale (Nearest Neighbor Scaling) image to at least 2160px (width)\n",
    "for file in os.listdir(\"../DataScraping/data/pokemon_sprites/\"):\n",
    "    im = PIL.Image.open(f\"../DataScraping/data/pokemon_sprites/{file}\")\n",
    "    \n",
    "    # Calculate new size\n",
    "    w, h = im.size\n",
    "    ratio = math.ceil(2160/w)\n",
    "    \n",
    "    # Save\n",
    "    im = im.resize([w * ratio, h * ratio], resample=PIL.Image.NEAREST)\n",
    "    im.save(f\"./data/pokemon_scaled_sprites/{file}\", format=\"png\")\n",
    "im"
   ]
  },
  {
   "cell_type": "markdown",
   "metadata": {},
   "source": [
    "### Below this are testing"
   ]
  },
  {
   "cell_type": "code",
   "execution_count": 6,
   "metadata": {},
   "outputs": [],
   "source": [
    "seen = set()\n",
    "lengths = collections.defaultdict(int)\n",
    "# Interger scale (Nearest Neighbor Scaling) image to at least 2160px (width)\n",
    "for file in os.listdir(\"../DataScraping/data/pokemon_sprites_pokeapi/\"):\n",
    "    im = PIL.Image.open(f\"../DataScraping/data/pokemon_sprites_pokeapi/{file}\")\n",
    "    \n",
    "    pix = im.load()\n",
    "    w, h = im.size\n",
    "    colors = set([pix[x,y] for x in range(w) for y in range(h)])\n",
    "    seen = seen.union(colors)\n",
    "    lengths[len(colors)] += 1"
   ]
  },
  {
   "cell_type": "code",
   "execution_count": 8,
   "metadata": {},
   "outputs": [
    {
     "name": "stdout",
     "output_type": "stream",
     "text": [
      "{0, 1, 2, 3, 4, 5, 6, 7, 8, 9, 10, 11, 12, 13, 14, 15}\n"
     ]
    },
    {
     "data": {
      "image/png": "[encoded data removed]",
      "text/plain": [
       "<PIL.PngImagePlugin.PngImageFile image mode=P size=96x96 at 0x16A5F2E0B00>"
      ]
     },
     "execution_count": 8,
     "metadata": {},
     "output_type": "execute_result"
    }
   ],
   "source": [
    "im = PIL.Image.open(f\"../DataScraping/data/pokemon_sprites_pokeapi/10078_groudon.png\")\n",
    "pix = im.load()\n",
    "w, h = im.size\n",
    "print(set([pix[x,y] for x in range(w) for y in range(h)]))\n",
    "im"
   ]
  },
  {
   "cell_type": "code",
   "execution_count": 9,
   "metadata": {},
   "outputs": [
    {
     "name": "stdout",
     "output_type": "stream",
     "text": [
      "572\n",
      "defaultdict(<class 'int'>, {15: 181, 13: 108, 12: 69, 16: 195, 14: 144, 11: 36, 20: 6, 17: 14, 21: 5, 22: 1, 19: 6, 28: 1, 25: 2, 24: 1, 18: 5, 27: 2, 9: 7, 8: 2, 10: 23, 7: 2, 29: 1, 647: 1, 1025: 1, 1181: 2, 683: 1, 1233: 1, 1467: 1, 757: 1, 838: 1, 1372: 1, 498: 2, 807: 1, 768: 1, 693: 1, 877: 1, 439: 1, 580: 1, 1214: 1, 563: 1, 1470: 1, 942: 1, 675: 1, 1157: 1, 940: 1, 1219: 1, 342: 1, 814: 1, 1429: 2, 712: 1, 1262: 1, 554: 2, 1521: 1, 476: 1, 964: 1, 1200: 1, 470: 1, 825: 1, 857: 1, 783: 1, 400: 1, 797: 1, 1160: 1, 1006: 1, 1462: 1, 1022: 1, 533: 1, 1551: 1, 601: 1, 1012: 1, 411: 1, 1383: 1, 1047: 1, 350: 1, 557: 1, 1721: 1, 631: 1, 1063: 1, 1381: 1, 792: 1, 994: 1, 2038: 1, 1605: 1, 1132: 1, 1192: 1, 955: 1, 1234: 1, 1881: 1, 2061: 1, 1042: 1, 1925: 1, 1263: 1, 1239: 1, 2520: 1, 976: 1, 1667: 1, 930: 1, 958: 1, 525: 1, 523: 1, 3175: 1, 4386: 1, 4133: 1, 6489: 1})\n"
     ]
    }
   ],
   "source": [
    "print(sum(val for key, val in lengths.items() if key < 16))\n",
    "print(lengths)"
   ]
  },
  {
   "cell_type": "code",
   "execution_count": 10,
   "metadata": {},
   "outputs": [
    {
     "data": {
      "text/plain": [
       "63444"
      ]
     },
     "execution_count": 10,
     "metadata": {},
     "output_type": "execute_result"
    }
   ],
   "source": [
    "len(seen)"
   ]
  },
  {
   "cell_type": "markdown",
   "metadata": {},
   "source": [
    "## Experiment with custom scaling"
   ]
  },
  {
   "cell_type": "code",
   "execution_count": 19,
   "metadata": {},
   "outputs": [
    {
     "data": {
      "image/png": "[encoded data removed]",
      "text/plain": [
       "<PIL.Image.Image image mode=P size=500x500 at 0x16A7283EB70>"
      ]
     },
     "execution_count": 19,
     "metadata": {},
     "output_type": "execute_result"
    }
   ],
   "source": [
    "im = PIL.Image.open(f\"../DataScraping/data/pokemon_sprites_pokeapi/10078_groudon.png\")\n",
    "im = im.resize([500, 500], resample=PIL.Image.NEAREST)\n",
    "im2 = im.load()\n",
    "im_ = im.copy()\n",
    "im1 = im_.load()\n",
    "im"
   ]
  },
  {
   "cell_type": "code",
   "execution_count": 20,
   "metadata": {},
   "outputs": [
    {
     "name": "stdout",
     "output_type": "stream",
     "text": [
      "0\n",
      "100\n",
      "200\n",
      "300\n",
      "400\n"
     ]
    }
   ],
   "source": [
    "R, C = im.size\n",
    "r = 4\n",
    "for x in range(C):\n",
    "    for y in range(R):\n",
    "        freq = collections.Counter()\n",
    "        for dx in range(-r, r):\n",
    "            for dy in range(-r, r):\n",
    "                nx = x + dx\n",
    "                ny = y + dy\n",
    "                if 0 <= nx < C and 0 <= ny < R and (abs(x - nx)**2 + abs(ny - y)**2) <= r**2:\n",
    "                    freq[im1[nx, ny]] += 1\n",
    "        im2[x, y] = freq.most_common(1)[0][0]\n",
    "    if x % 100 == 0:\n",
    "        print(x)"
   ]
  },
  {
   "cell_type": "code",
   "execution_count": 21,
   "metadata": {},
   "outputs": [],
   "source": [
    "im.save(\"./data/test.png\", format=\"png\")"
   ]
  },
  {
   "cell_type": "code",
   "execution_count": 27,
   "metadata": {},
   "outputs": [],
   "source": [
    "import skimage\n",
    "from skimage import io, transform\n",
    "import numpy as np"
   ]
  },
  {
   "cell_type": "code",
   "execution_count": 28,
   "metadata": {},
   "outputs": [
    {
     "data": {
      "text/plain": [
       "<Figure size 640x480 with 1 Axes>"
      ]
     },
     "metadata": {},
     "output_type": "display_data"
    }
   ],
   "source": [
    "im =  skimage.io.imread(f\"../DataScraping/data/pokemon_sprites_pokeapi/10078_groudon.png\")\n",
    "im = skimage.transform.resize(im, [120, 120, 4], order=0, mode=\"edge\")\n",
    "im2 = np.copy(im)\n",
    "skimage.io.imshow(im2)\n",
    "skimage.io.show()"
   ]
  },
  {
   "cell_type": "code",
   "execution_count": 29,
   "metadata": {},
   "outputs": [
    {
     "ename": "TypeError",
     "evalue": "unhashable type: 'numpy.ndarray'",
     "output_type": "error",
     "traceback": [
      "\u001b[1;31m---------------------------------------------------------------------------\u001b[0m",
      "\u001b[1;31mTypeError\u001b[0m                                 Traceback (most recent call last)",
      "\u001b[1;32m<ipython-input-29-fede34c2bbbf>\u001b[0m in \u001b[0;36m<module>\u001b[1;34m\u001b[0m\n\u001b[0;32m      9\u001b[0m                 \u001b[0mny\u001b[0m \u001b[1;33m=\u001b[0m \u001b[0my\u001b[0m \u001b[1;33m+\u001b[0m \u001b[0mdy\u001b[0m\u001b[1;33m\u001b[0m\u001b[1;33m\u001b[0m\u001b[0m\n\u001b[0;32m     10\u001b[0m                 \u001b[1;32mif\u001b[0m \u001b[1;36m0\u001b[0m \u001b[1;33m<=\u001b[0m \u001b[0mnx\u001b[0m \u001b[1;33m<\u001b[0m \u001b[0mX\u001b[0m \u001b[1;32mand\u001b[0m \u001b[1;36m0\u001b[0m \u001b[1;33m<=\u001b[0m \u001b[0mny\u001b[0m \u001b[1;33m<\u001b[0m \u001b[0mY\u001b[0m \u001b[1;32mand\u001b[0m \u001b[1;33m(\u001b[0m\u001b[0mabs\u001b[0m\u001b[1;33m(\u001b[0m\u001b[0mx\u001b[0m \u001b[1;33m-\u001b[0m \u001b[0mnx\u001b[0m\u001b[1;33m)\u001b[0m\u001b[1;33m**\u001b[0m\u001b[1;36m2\u001b[0m \u001b[1;33m+\u001b[0m \u001b[0mabs\u001b[0m\u001b[1;33m(\u001b[0m\u001b[0mny\u001b[0m \u001b[1;33m-\u001b[0m \u001b[0my\u001b[0m\u001b[1;33m)\u001b[0m\u001b[1;33m**\u001b[0m\u001b[1;36m2\u001b[0m\u001b[1;33m)\u001b[0m \u001b[1;33m<=\u001b[0m \u001b[0mr\u001b[0m\u001b[1;33m**\u001b[0m\u001b[1;36m2\u001b[0m\u001b[1;33m:\u001b[0m\u001b[1;33m\u001b[0m\u001b[1;33m\u001b[0m\u001b[0m\n\u001b[1;32m---> 11\u001b[1;33m                     \u001b[0mfreq\u001b[0m\u001b[1;33m[\u001b[0m\u001b[0mim\u001b[0m\u001b[1;33m[\u001b[0m\u001b[0mnx\u001b[0m\u001b[1;33m,\u001b[0m \u001b[0mny\u001b[0m\u001b[1;33m]\u001b[0m\u001b[1;33m]\u001b[0m \u001b[1;33m+=\u001b[0m \u001b[1;36m1\u001b[0m\u001b[1;33m\u001b[0m\u001b[1;33m\u001b[0m\u001b[0m\n\u001b[0m\u001b[0;32m     12\u001b[0m         \u001b[0mim2\u001b[0m\u001b[1;33m[\u001b[0m\u001b[0mx\u001b[0m\u001b[1;33m,\u001b[0m\u001b[0my\u001b[0m\u001b[1;33m]\u001b[0m \u001b[1;33m=\u001b[0m \u001b[0mfreq\u001b[0m\u001b[1;33m.\u001b[0m\u001b[0mmost_common\u001b[0m\u001b[1;33m(\u001b[0m\u001b[1;36m1\u001b[0m\u001b[1;33m)\u001b[0m\u001b[1;33m[\u001b[0m\u001b[1;36m0\u001b[0m\u001b[1;33m]\u001b[0m\u001b[1;33m[\u001b[0m\u001b[1;36m0\u001b[0m\u001b[1;33m]\u001b[0m\u001b[1;33m\u001b[0m\u001b[1;33m\u001b[0m\u001b[0m\n\u001b[0;32m     13\u001b[0m     \u001b[1;32mif\u001b[0m \u001b[0mx\u001b[0m \u001b[1;33m%\u001b[0m \u001b[1;36m100\u001b[0m \u001b[1;33m==\u001b[0m \u001b[1;36m0\u001b[0m\u001b[1;33m:\u001b[0m\u001b[1;33m\u001b[0m\u001b[1;33m\u001b[0m\u001b[0m\n",
      "\u001b[1;31mTypeError\u001b[0m: unhashable type: 'numpy.ndarray'"
     ]
    }
   ],
   "source": [
    "X, Y, Z = im.shape\n",
    "r = 2\n",
    "for x in range(X):\n",
    "    for y in range(Y):\n",
    "        freq = collections.Counter()\n",
    "        for dx in range(-r//2, r//2):\n",
    "            for dy in range(-r//2, r//2):\n",
    "                nx = x + dx\n",
    "                ny = y + dy\n",
    "                if 0 <= nx < X and 0 <= ny < Y and (abs(x - nx)**2 + abs(ny - y)**2) <= r**2:\n",
    "                    freq[im[nx, ny]] += 1\n",
    "        im2[x,y] = freq.most_common(1)[0][0]\n",
    "    if x % 100 == 0:\n",
    "        print(x)\n",
    "skimage.io.imshow(im2)\n",
    "skimage.io.show()"
   ]
  },
  {
   "cell_type": "code",
   "execution_count": 223,
   "metadata": {},
   "outputs": [
    {
     "name": "stderr",
     "output_type": "stream",
     "text": [
      "Lossy conversion from float64 to uint8. Range [0, 1]. Convert image to uint8 prior to saving to suppress this warning.\n"
     ]
    }
   ],
   "source": [
    "skimage.io.imsave(\"./data/test.png\", im2)"
   ]
  },
  {
   "cell_type": "code",
   "execution_count": 6,
   "metadata": {},
   "outputs": [],
   "source": []
  },
  {
   "cell_type": "code",
   "execution_count": 28,
   "metadata": {},
   "outputs": [
    {
     "data": {
      "text/plain": [
       "array([[  0,   0,   0,   0],\n",
       "       [  0,   0,   0,   0],\n",
       "       [  0,   0,   0,   0],\n",
       "       [  0,   0,   0,   0],\n",
       "       [  0,   0,   0,   0],\n",
       "       [  0,   0,   0,   0],\n",
       "       [  0,   0,   0,   0],\n",
       "       [  0,   0,   0,   0],\n",
       "       [  0,   0,   0,   0],\n",
       "       [  0,   0,   0,   0],\n",
       "       [  0,   0,   0,   0],\n",
       "       [  0,   0,   0,   0],\n",
       "       [  0,   0,   0,   0],\n",
       "       [  0,   0,   0,   0],\n",
       "       [  0,   0,   0,   0],\n",
       "       [  0,   0,   0,   0],\n",
       "       [  0,   0,   0,   0],\n",
       "       [  0,   0,   0,   0],\n",
       "       [  0,   0,   0,   0],\n",
       "       [  0,   0,   0,   0],\n",
       "       [  0,   0,   0,   0],\n",
       "       [  0,   0,   0, 255],\n",
       "       [213, 115, 109, 255],\n",
       "       [213, 115, 109, 255],\n",
       "       [213, 115, 109, 255],\n",
       "       [201,  44,  51, 255],\n",
       "       [201,  44,  51, 255],\n",
       "       [ 52,  52,  52, 255],\n",
       "       [136, 121, 129, 255],\n",
       "       [136, 121, 129, 255],\n",
       "       [136, 121, 129, 255],\n",
       "       [  0,   0,   0, 255],\n",
       "       [105,  90,  91, 255],\n",
       "       [105,  90,  91, 255],\n",
       "       [105,  90,  91, 255],\n",
       "       [105,  90,  91, 255],\n",
       "       [105,  90,  91, 255],\n",
       "       [105,  90,  91, 255],\n",
       "       [105,  90,  91, 255],\n",
       "       [105,  90,  91, 255],\n",
       "       [105,  90,  91, 255],\n",
       "       [105,  90,  91, 255],\n",
       "       [105,  90,  91, 255],\n",
       "       [105,  90,  91, 255],\n",
       "       [ 52,  52,  52, 255],\n",
       "       [136, 121, 129, 255],\n",
       "       [136, 121, 129, 255],\n",
       "       [136, 121, 129, 255],\n",
       "       [136, 121, 129, 255],\n",
       "       [136, 121, 129, 255],\n",
       "       [136, 121, 129, 255],\n",
       "       [136, 121, 129, 255],\n",
       "       [136, 121, 129, 255],\n",
       "       [136, 121, 129, 255],\n",
       "       [105,  90,  91, 255],\n",
       "       [105,  90,  91, 255],\n",
       "       [255, 255, 255, 255],\n",
       "       [255, 255, 255, 255],\n",
       "       [255, 255, 255, 255],\n",
       "       [  0,   0,   0, 255],\n",
       "       [136, 121, 129, 255],\n",
       "       [105,  90,  91, 255],\n",
       "       [255, 255, 255, 255],\n",
       "       [  0,   0,   0, 255],\n",
       "       [ 52,  52,  52, 255],\n",
       "       [105,  90,  91, 255],\n",
       "       [105,  90,  91, 255],\n",
       "       [105,  90,  91, 255],\n",
       "       [105,  90,  91, 255],\n",
       "       [  0,   0,   0, 255],\n",
       "       [  0,   0,   0,   0],\n",
       "       [  0,   0,   0,   0],\n",
       "       [  0,   0,   0,   0],\n",
       "       [  0,   0,   0,   0],\n",
       "       [  0,   0,   0,   0],\n",
       "       [  0,   0,   0,   0],\n",
       "       [  0,   0,   0,   0],\n",
       "       [  0,   0,   0,   0],\n",
       "       [  0,   0,   0,   0],\n",
       "       [  0,   0,   0,   0],\n",
       "       [  0,   0,   0,   0],\n",
       "       [  0,   0,   0,   0],\n",
       "       [  0,   0,   0,   0],\n",
       "       [  0,   0,   0,   0],\n",
       "       [  0,   0,   0,   0],\n",
       "       [  0,   0,   0,   0],\n",
       "       [  0,   0,   0,   0],\n",
       "       [  0,   0,   0,   0],\n",
       "       [  0,   0,   0,   0],\n",
       "       [  0,   0,   0,   0],\n",
       "       [  0,   0,   0,   0],\n",
       "       [  0,   0,   0,   0],\n",
       "       [  0,   0,   0,   0],\n",
       "       [  0,   0,   0,   0],\n",
       "       [  0,   0,   0,   0],\n",
       "       [  0,   0,   0,   0]], dtype=uint8)"
      ]
     },
     "execution_count": 28,
     "metadata": {},
     "output_type": "execute_result"
    }
   ],
   "source": [
    "im =  skimage.io.imread(f\"../DataScraping/data/pokemon_sprites/10078.png\")\n",
    "im[:, 40]"
   ]
  },
  {
   "cell_type": "code",
   "execution_count": 31,
   "metadata": {},
   "outputs": [
    {
     "data": {
      "image/png": "[encoded data removed]",
      "text/plain": [
       "<Figure size 432x288 with 1 Axes>"
      ]
     },
     "metadata": {
      "needs_background": "light"
     },
     "output_type": "display_data"
    }
   ],
   "source": [
    "skimage.io.imshow(im[:, 11:21])\n",
    "skimage.io.show()"
   ]
  },
  {
   "cell_type": "code",
   "execution_count": null,
   "metadata": {},
   "outputs": [],
   "source": []
  }
 ],
 "metadata": {
  "kernelspec": {
   "display_name": "Python 3.7.3 64-bit",
   "language": "python",
   "name": "python37364bit3ca3215d4e6240698248485fce128d4d"
  },
  "language_info": {
   "codemirror_mode": {
    "name": "ipython",
    "version": 3
   },
   "file_extension": ".py",
   "mimetype": "text/x-python",
   "name": "python",
   "nbconvert_exporter": "python",
   "pygments_lexer": "ipython3",
   "version": "3.7.3"
  }
 },
 "nbformat": 4,
 "nbformat_minor": 4
}
