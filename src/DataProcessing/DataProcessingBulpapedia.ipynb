{
 "cells": [
  {
   "cell_type": "code",
   "execution_count": 1,
   "metadata": {},
   "outputs": [],
   "source": [
    "import PIL\n",
    "import os\n",
    "import math\n",
    "import pathlib\n",
    "from IPython.display import Image\n",
    "import collections"
   ]
  },
  {
   "cell_type": "code",
   "execution_count": null,
   "metadata": {},
   "outputs": [],
   "source": [
    "# Make directries (recursively) if not exist.\n",
    "pathlib.Path(\"./data/buldapedia_pokemon_scaled_sprites/\").mkdir(parents=True, exist_ok=True)\n",
    "\n",
    "# Interger scale (Nearest Neighbor Scaling) image to at least 2160px (width)\n",
    "for file in os.listdir(\"../DataScraping/data/pokemon_sprites/\"):\n",
    "    im = PIL.Image.open(f\"../DataScraping/data/pokemon_sprites/{file}\")\n",
    "    \n",
    "    # Calculate new size\n",
    "    w, h = im.size\n",
    "    ratio = math.ceil(2160/w)\n",
    "    \n",
    "    # Save\n",
    "    im = im.resize([w * ratio, h * ratio], resample=PIL.Image.NEAREST)\n",
    "    im.save(f\"./data/pokemon_scaled_sprites/{file}\", format=\"png\")\n",
    "im"
   ]
  },
  {
   "cell_type": "code",
   "execution_count": 2,
   "metadata": {},
   "outputs": [
    {
     "ename": "FileNotFoundError",
     "evalue": "[WinError 3] The system cannot find the path specified: '../DataScraping/data/pokemon_sprites/'",
     "output_type": "error",
     "traceback": [
      "\u001b[1;31m---------------------------------------------------------------------------\u001b[0m",
      "\u001b[1;31mFileNotFoundError\u001b[0m                         Traceback (most recent call last)",
      "\u001b[1;32m<ipython-input-2-f12c6c2174c8>\u001b[0m in \u001b[0;36m<module>\u001b[1;34m\u001b[0m\n\u001b[1;32m----> 1\u001b[1;33m \u001b[0mos\u001b[0m\u001b[1;33m.\u001b[0m\u001b[0mlistdir\u001b[0m\u001b[1;33m(\u001b[0m\u001b[1;34m\"../DataScraping/data/pokemon_sprites/\"\u001b[0m\u001b[1;33m)\u001b[0m\u001b[1;33m\u001b[0m\u001b[1;33m\u001b[0m\u001b[0m\n\u001b[0m",
      "\u001b[1;31mFileNotFoundError\u001b[0m: [WinError 3] The system cannot find the path specified: '../DataScraping/data/pokemon_sprites/'"
     ]
    }
   ],
   "source": [
    "os.listdir(\"../DataScrapingBulbapedia/data/pokemon_sprites/\")"
   ]
  },
  {
   "cell_type": "code",
   "execution_count": null,
   "metadata": {},
   "outputs": [],
   "source": []
  }
 ],
 "metadata": {
  "kernelspec": {
   "display_name": "Python 3.7.3 64-bit",
   "language": "python",
   "name": "python37364bit3ca3215d4e6240698248485fce128d4d"
  },
  "language_info": {
   "codemirror_mode": {
    "name": "ipython",
    "version": 3
   },
   "file_extension": ".py",
   "mimetype": "text/x-python",
   "name": "python",
   "nbconvert_exporter": "python",
   "pygments_lexer": "ipython3",
   "version": "3.7.3"
  }
 },
 "nbformat": 4,
 "nbformat_minor": 4
}
