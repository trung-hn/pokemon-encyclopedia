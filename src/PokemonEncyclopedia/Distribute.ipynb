{
 "cells": [
  {
   "cell_type": "code",
   "execution_count": 7,
   "metadata": {},
   "outputs": [],
   "source": [
    "# Copy file to another location\n",
    "!cp Pokemon.ipynb ./dist/Pokemon_Distribution.ipynb"
   ]
  },
  {
   "cell_type": "code",
   "execution_count": 8,
   "metadata": {},
   "outputs": [
    {
     "name": "stdout",
     "output_type": "stream",
     "text": [
      "[{'name': 'stdout',\n",
      "  'output_type': 'stream',\n",
      "  'text': ['exeggutor, deoxys, wormadam, giratina, shaymin, basculin, '\n",
      "           'darmanitan, tornadus, thundurus, landorus, keldeo, meloetta, '\n",
      "           'meowstic, aegislash, pumpkaboo, gourgeist, oricorio, lycanroc, '\n",
      "           'wishiwashi, minior, mimikyu, toxtricity, eiscue, indeedee, zacian, '\n",
      "           'zamazenta, urshifu, ']},\n",
      " {'data': {'text/html': [...], 'text/plain': [...]},\n",
      "  'metadata': {},\n",
      "  'output_type': 'display_data'}]\n"
     ]
    }
   ],
   "source": [
    "import json\n",
    "from pprint import pprint\n",
    "json_data =json.load(open(\"./dist/Pokemon_Distribution.ipynb\", \"r\"))\n",
    "cells = json_data[\"cells\"]\n",
    "wanted_index = 0\n",
    "# Find cell that has word '# Print using JSON' \"\"\n",
    "for i, cell in enumerate(cells):\n",
    "    if cell[\"cell_type\"] == \"markdown\" and cell[\"source\"] == ['# Print using JSON']:\n",
    "        wanted_index = i+1\n",
    "        break\n",
    "\n",
    "wanted_cell=cells[wanted_index]\n",
    "pprint(wanted_cell[\"outputs\"], depth=3)"
   ]
  },
  {
   "cell_type": "markdown",
   "metadata": {},
   "source": [
    "## Only Keep Pokemon Table cell"
   ]
  },
  {
   "cell_type": "code",
   "execution_count": 9,
   "metadata": {},
   "outputs": [
    {
     "name": "stdout",
     "output_type": "stream",
     "text": [
      "{'cells': [{'cell_type': 'code',\n",
      "            'execution_count': 19,\n",
      "            'metadata': {},\n",
      "            'outputs': [...],\n",
      "            'source': []}],\n",
      " 'metadata': {'kernelspec': {'display_name': 'Python 3',\n",
      "                             'language': 'python',\n",
      "                             'name': 'python3'},\n",
      "              'language_info': {'codemirror_mode': {...},\n",
      "                                'file_extension': '.py',\n",
      "                                'mimetype': 'text/x-python',\n",
      "                                'name': 'python',\n",
      "                                'nbconvert_exporter': 'python',\n",
      "                                'pygments_lexer': 'ipython3',\n",
      "                                'version': '3.7.3'}},\n",
      " 'nbformat': 4,\n",
      " 'nbformat_minor': 4}\n"
     ]
    }
   ],
   "source": [
    "wanted_cell[\"source\"]=[]\n",
    "wanted_cell[\"outputs\"][0][\"text\"]=[]\n",
    "json_data[\"cells\"] = [wanted_cell]\n",
    "pprint(json_data, depth=3)"
   ]
  },
  {
   "cell_type": "code",
   "execution_count": 10,
   "metadata": {},
   "outputs": [
    {
     "name": "stderr",
     "output_type": "stream",
     "text": [
      "[NbConvertApp] Converting notebook ./dist/Pokemon_Distribution.ipynb to html\n",
      "[NbConvertApp] Writing 1566092 bytes to ./dist\\Pokemon_Distribution.html\n"
     ]
    }
   ],
   "source": [
    "json.dump(json_data, open(\"./dist/Pokemon_Distribution.ipynb\", \"w\"))\n",
    "!jupyter nbconvert --to html ./dist/Pokemon_Distribution.ipynb"
   ]
  },
  {
   "cell_type": "code",
   "execution_count": null,
   "metadata": {},
   "outputs": [],
   "source": []
  }
 ],
 "metadata": {
  "kernelspec": {
   "display_name": "Python 3",
   "language": "python",
   "name": "python3"
  },
  "language_info": {
   "codemirror_mode": {
    "name": "ipython",
    "version": 3
   },
   "file_extension": ".py",
   "mimetype": "text/x-python",
   "name": "python",
   "nbconvert_exporter": "python",
   "pygments_lexer": "ipython3",
   "version": "3.7.3"
  }
 },
 "nbformat": 4,
 "nbformat_minor": 4
}
