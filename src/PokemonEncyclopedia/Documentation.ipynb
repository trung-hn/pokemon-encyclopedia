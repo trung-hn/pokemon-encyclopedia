{
 "cells": [
  {
   "cell_type": "markdown",
   "metadata": {},
   "source": [
    "- Note: Call per second is limited so need to save locally.\n",
    "- File is too big, cannot save as 1 file\n",
    "- Looking into removing parts that don't need to json file\n",
    "    - Decide to use multithreading to download several at the same time\n",
    "\n",
    "Need to do:\n",
    "- need to explain gender rate (refer to doc)  \n",
    "- Problem: Need to find a differrent source for sprite (forms -> url -> sprites)\n",
    "- Many pokemons don't have capture_rate. Need to deal with null value somehow\n",
    "- Make a list of requirements\n",
    "- How to cache Image\n",
    "- Generate HTML files\n",
    "- Get better names in https://pokeapi.co/api/v2/pokemon-form/charizard-mega-x/ names[0][\"name\"]\n",
    "\n",
    "Look into:\n",
    "- Show data using pandas\n",
    "- Good/Weak against types https://pokeapi.co/api/v2/type\n",
    "    - Potential problem: 2 types has the same weakness but at different level. \n",
    "    - Might need to seperate weakness by type\n",
    "\n",
    "Form of distribution:\n",
    "- License: MIT\n",
    "- website: http://htmlpreview.github.io/\n",
    "\n",
    "https://pokeapi.co/docs/v2.html"
   ]
  },
  {
   "cell_type": "markdown",
   "metadata": {},
   "source": [
    "More about Tabulate:\n",
    "- https://pypi.org/project/tabulate/\n",
    "- https://pyhdust.readthedocs.io/en/latest/tabulate.html"
   ]
  },
  {
   "cell_type": "markdown",
   "metadata": {},
   "source": [
    "### Example of raw data\n",
    "We look into this project but without a person who has domain knowledge, it's hard. So we choose another project\n",
    "API:\n",
    "- https://pokeapi.co/\n",
    "\n",
    "API Wrapper:\n",
    "- https://github.com/PokeAPI/pokebase\n",
    "\n",
    "Wiki:\n",
    "- https://pokemon.fandom.com/wiki/Pikachu\n",
    "- https://pokemon.fandom.com/wiki/Charizard\n",
    "- https://pokemon.fandom.com/wiki/List_of_Pok%C3%A9mon#Generation%20I\n",
    "- https://bulbapedia.bulbagarden.net/wiki/Necrozma_(Pok%C3%A9mon)\n",
    "\n",
    "Mega: \n",
    "- https://wiki.p-insurgence.com/Mega_Evolution\n",
    "\n",
    "Need:\n",
    "Coverage\n",
    "\n",
    "More:\n",
    "\n",
    "\n"
   ]
  },
  {
   "cell_type": "code",
   "execution_count": null,
   "metadata": {},
   "outputs": [],
   "source": []
  }
 ],
 "metadata": {
  "kernelspec": {
   "display_name": "Python 3",
   "language": "python",
   "name": "python3"
  },
  "language_info": {
   "codemirror_mode": {
    "name": "ipython",
    "version": 3
   },
   "file_extension": ".py",
   "mimetype": "text/x-python",
   "name": "python",
   "nbconvert_exporter": "python",
   "pygments_lexer": "ipython3",
   "version": "3.7.3"
  }
 },
 "nbformat": 4,
 "nbformat_minor": 4
}
