{
 "cells": [
  {
   "cell_type": "code",
   "execution_count": 3,
   "metadata": {},
   "outputs": [],
   "source": [
    "# External libraries\n",
    "import requests\n",
    "\n",
    "# Builtins\n",
    "import json\n",
    "import os\n",
    "import concurrent.futures\n",
    "import functools\n",
    "import zipfile\n",
    "import pathlib"
   ]
  },
  {
   "cell_type": "code",
   "execution_count": 4,
   "metadata": {},
   "outputs": [],
   "source": [
    "def get_json(overwrite=False):\n",
    "    \"\"\"\n",
    "    return a dictionary which contains all pokemon urls\n",
    "    \"\"\"\n",
    "    res_json = None\n",
    "    path = fr\"./data/pokemon.json\"\n",
    "    if overwrite or not os.path.exists(path):\n",
    "        offset, limit = 0, 10000\n",
    "        url = fr\"https://pokeapi.co/api/v2/pokemon/?offset={offset}&limit={limit}/\"\n",
    "        headers = {'user-agent': 'pokemon-gallery'}\n",
    "        res_json = requests.get(url, headers = headers).json()\n",
    "        with open(path, \"w\", encoding=\"utf8\") as f:\n",
    "            json.dump(res_json, f)\n",
    "    else:\n",
    "        with open(path, \"r\", encoding=\"utf8\") as f:\n",
    "            res_json = json.load(f)\n",
    "    return res_json"
   ]
  },
  {
   "cell_type": "code",
   "execution_count": 5,
   "metadata": {},
   "outputs": [],
   "source": [
    "def download_pokemon_detail(info, overwrite=False):\n",
    "    \"\"\"\n",
    "    \"\"\"\n",
    "    id, name = info\n",
    "    path = fr\"./data/pokemon_details_pokeapi/{id}_{name}.json\"\n",
    "    if overwrite or not os.path.exists(path):\n",
    "        url = fr\"https://pokeapi.co/api/v2/pokemon/{id}/\"\n",
    "        headers = {'user-agent': 'pokemon-gallery'}\n",
    "        res_json = requests.get(url, headers = headers).json()\n",
    "        with open(path, \"w\", encoding=\"utf8\") as f:\n",
    "            json.dump(res_json, f)\n",
    "    else:\n",
    "        with open(path, \"r\", encoding=\"utf8\") as f:\n",
    "            res_json = json.load(f)\n",
    "    return res_json\n"
   ]
  },
  {
   "cell_type": "markdown",
   "metadata": {},
   "source": [
    "### Example of how `res_json` looks\n",
    "```python\n",
    "{'count': 964,\n",
    " 'next': None,\n",
    " 'previous': None,\n",
    " 'results': [{'name': 'bulbasaur',\n",
    "   'url': 'https://pokeapi.co/api/v2/pokemon/1/'},\n",
    "  {'name': 'ivysaur', 'url': 'https://pokeapi.co/api/v2/pokemon/2/'},\n",
    "  {'name': 'venusaur', 'url': 'https://pokeapi.co/api/v2/pokemon/3/'},\n",
    "  {'name': 'charmander', 'url': 'https://pokeapi.co/api/v2/pokemon/4/'},\n",
    "  ...]\n",
    "}\n",
    "```"
   ]
  },
  {
   "cell_type": "code",
   "execution_count": 11,
   "metadata": {},
   "outputs": [],
   "source": [
    "# Make directries (recursively) if not exist.\n",
    "pathlib.Path(\"./data/pokemon_details_pokeapi/\").mkdir(parents=True, exist_ok=True)\n",
    "\n",
    "# Get all pokemon IDs\n",
    "res_json = get_json()\n",
    "infos = [(pokemon['url'].rsplit(\"/\", 2)[-2], pokemon[\"name\"]) for pokemon in res_json[\"results\"]]\n",
    "\n",
    "# Multithreading\n",
    "no_threads = 10\n",
    "with concurrent.futures.ThreadPoolExecutor(max_workers=no_threads) as executor:\n",
    "    partial_func = functools.partial(download_pokemon_detail, overwrite=False)\n",
    "    executor.map(partial_func, infos)"
   ]
  },
  {
   "cell_type": "markdown",
   "metadata": {},
   "source": [
    "### Make a zip file for archiving"
   ]
  },
  {
   "cell_type": "code",
   "execution_count": 15,
   "metadata": {},
   "outputs": [
    {
     "name": "stdout",
     "output_type": "stream",
     "text": [
      "Zip to ./data/pokemon_details_pokeapi.zip successfully\n"
     ]
    }
   ],
   "source": [
    "path = \"./data/pokemon_details_pokeapi/\"\n",
    "with zipfile.ZipFile(f'{path[:-1]}.zip','w') as zip_file: \n",
    "    for file in os.listdir(f\"{path}\"):\n",
    "        zip_file.write(f\"{path}{file}\", f\"{file}\", compress_type=zipfile.ZIP_DEFLATED)\n",
    "print(f\"Zip to {path[:-1]}.zip successfully\")"
   ]
  },
  {
   "cell_type": "code",
   "execution_count": null,
   "metadata": {},
   "outputs": [],
   "source": []
  }
 ],
 "metadata": {
  "kernelspec": {
   "display_name": "Python 3",
   "language": "python",
   "name": "python3"
  },
  "language_info": {
   "codemirror_mode": {
    "name": "ipython",
    "version": 3
   },
   "file_extension": ".py",
   "mimetype": "text/x-python",
   "name": "python",
   "nbconvert_exporter": "python",
   "pygments_lexer": "ipython3",
   "version": "3.7.3"
  }
 },
 "nbformat": 4,
 "nbformat_minor": 4
}
