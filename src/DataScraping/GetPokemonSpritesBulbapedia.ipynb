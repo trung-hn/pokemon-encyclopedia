{
 "cells": [
  {
   "cell_type": "markdown",
   "metadata": {},
   "source": [
    "This script is used to get pokemon sprites from https://bulbapedia.bulbagarden.net/wiki/List_of_Pok%C3%A9mon_by_National_Pok%C3%A9dex_number"
   ]
  },
  {
   "cell_type": "code",
   "execution_count": 1,
   "metadata": {},
   "outputs": [],
   "source": [
    "# External libraries\n",
    "import requests\n",
    "import bs4\n",
    "\n",
    "# Builtins\n",
    "import os\n",
    "import concurrent.futures\n",
    "import functools\n",
    "import zipfile\n",
    "import pathlib\n",
    "import urllib.request\n",
    "import urllib.parse"
   ]
  },
  {
   "cell_type": "markdown",
   "metadata": {},
   "source": [
    "### Get sprite urls and prepare for downloading"
   ]
  },
  {
   "cell_type": "code",
   "execution_count": 2,
   "metadata": {},
   "outputs": [],
   "source": [
    "source = requests.get(\"https://bulbapedia.bulbagarden.net/wiki/List_of_Pok%C3%A9mon_by_National_Pok%C3%A9dex_number\")\n",
    "soup = bs4.BeautifulSoup(source.content)"
   ]
  },
  {
   "cell_type": "code",
   "execution_count": 3,
   "metadata": {},
   "outputs": [],
   "source": [
    "# Make directries (recursively) if not exist.\n",
    "pathlib.Path(\"./data/bulbapedia_pokemon_sprites/\").mkdir(parents=True, exist_ok=True)\n",
    "\n",
    "# Get pokemon info from the table\n",
    "sprite_urls = []\n",
    "visited = set()\n",
    "for tr in soup(\"tr\"):\n",
    "    if len(tr('td')) > 2 and tr.img:\n",
    "        td = tr('td')[1]\n",
    "        id_str = td.text.strip().strip(\"#\")\n",
    "        attrs = tr.img.attrs\n",
    "        \n",
    "        # Deal with sprites with the same code\n",
    "        if id_str in visited:\n",
    "            offset = 1\n",
    "            while id_str + f\"_{offset}\" in visited:\n",
    "                offset += 1\n",
    "            id_str += f\"_{offset}\"\n",
    "        \n",
    "        # Save\n",
    "        name = urllib.parse.quote(attrs[\"alt\"], safe=\"\")\n",
    "        sprite_urls.append((id_str, name, \"http:\" + attrs[\"src\"])) \n",
    "        visited.add(id_str)"
   ]
  },
  {
   "cell_type": "markdown",
   "metadata": {},
   "source": [
    "Example of first 10 of `sprite_urls`\n",
    "```python\n",
    "[('001', 'Bulbasaur', 'http://cdn.bulbagarden.net/upload/e/ec/001MS.png'),\n",
    " ('002', 'Ivysaur', 'http://cdn.bulbagarden.net/upload/6/6b/002MS.png'),\n",
    " ('003', 'Venusaur', 'http://cdn.bulbagarden.net/upload/e/e5/003XYMS.png'),\n",
    " ('004', 'Charmander', 'http://cdn.bulbagarden.net/upload/b/bb/004MS.png'),\n",
    " ('005', 'Charmeleon', 'http://cdn.bulbagarden.net/upload/d/dc/005MS.png'),\n",
    " ('006', 'Charizard', 'http://cdn.bulbagarden.net/upload/6/62/006XYMS.png'),\n",
    " ('007', 'Squirtle', 'http://cdn.bulbagarden.net/upload/9/92/007MS.png'),\n",
    " ('008', 'Wartortle', 'http://cdn.bulbagarden.net/upload/f/f3/008MS.png'),\n",
    " ('009', 'Blastoise', 'http://cdn.bulbagarden.net/upload/5/59/009XYMS.png'),\n",
    " ('010', 'Caterpie', 'http://cdn.bulbagarden.net/upload/6/69/010MS.png')]\n",
    "```"
   ]
  },
  {
   "cell_type": "markdown",
   "metadata": {},
   "source": [
    "### Download Sprites using 20 threads"
   ]
  },
  {
   "cell_type": "code",
   "execution_count": 4,
   "metadata": {},
   "outputs": [],
   "source": [
    "# Download images\n",
    "def download_sprite(sprite_url, overwrite=False):\n",
    "    id, name, url = sprite_url\n",
    "    path = f\"./data/pokemon_sprites_bulbapedia/{id}_{name}.png\"\n",
    "    if overwrite or not os.path.exists(path):\n",
    "        with open(path, \"wb\") as f:\n",
    "            f.write(requests.get(url).content)"
   ]
  },
  {
   "cell_type": "code",
   "execution_count": 5,
   "metadata": {},
   "outputs": [
    {
     "name": "stdout",
     "output_type": "stream",
     "text": [
      "Finish downloading all sprites\n"
     ]
    }
   ],
   "source": [
    "# Multithreading\n",
    "no_threads = 20\n",
    "with concurrent.futures.ThreadPoolExecutor(max_workers=no_threads) as executor:\n",
    "    partial = functools.partial(download_sprite, overwrite=False)\n",
    "    executor.map(partial, sprite_urls)\n",
    "print(f\"Finish downloading all sprites\")"
   ]
  },
  {
   "cell_type": "markdown",
   "metadata": {},
   "source": [
    "### Make a zip file for archiving"
   ]
  },
  {
   "cell_type": "code",
   "execution_count": 6,
   "metadata": {},
   "outputs": [
    {
     "name": "stdout",
     "output_type": "stream",
     "text": [
      "Zip 954 files to ./data/pokemon_sprites_bulbapedia.zip successfully\n"
     ]
    }
   ],
   "source": [
    "path = \"./data/pokemon_sprites_bulbapedia/\"\n",
    "with zipfile.ZipFile(f'{path[:-1]}.zip','w') as zip_file: \n",
    "    for file in os.listdir(f\"{path}\"):\n",
    "        zip_file.write(f\"{path}{file}\", f\"{file}\", compress_type=zipfile.ZIP_DEFLATED)\n",
    "print(f\"Zip {len(os.listdir(path))} files to {path[:-1]}.zip successfully\")"
   ]
  },
  {
   "cell_type": "code",
   "execution_count": null,
   "metadata": {},
   "outputs": [],
   "source": []
  }
 ],
 "metadata": {
  "kernelspec": {
   "display_name": "Python 3.7.3 64-bit",
   "language": "python",
   "name": "python37364bit3ca3215d4e6240698248485fce128d4d"
  },
  "language_info": {
   "codemirror_mode": {
    "name": "ipython",
    "version": 3
   },
   "file_extension": ".py",
   "mimetype": "text/x-python",
   "name": "python",
   "nbconvert_exporter": "python",
   "pygments_lexer": "ipython3",
   "version": "3.7.3"
  }
 },
 "nbformat": 4,
 "nbformat_minor": 4
}
