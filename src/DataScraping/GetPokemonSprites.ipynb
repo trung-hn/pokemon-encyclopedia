{
 "cells": [
  {
   "cell_type": "code",
   "execution_count": 2,
   "metadata": {},
   "outputs": [],
   "source": [
    "# External libraries\n",
    "import requests\n",
    "import nbimporter\n",
    "\n",
    "# Builtins\n",
    "import json\n",
    "import os\n",
    "import concurrent.futures\n",
    "import functools\n",
    "import zipfile\n",
    "import pathlib\n",
    "import urllib.request"
   ]
  },
  {
   "cell_type": "code",
   "execution_count": 2,
   "metadata": {},
   "outputs": [],
   "source": [
    "def download_sprite(sprite_url, overwrite=False):\n",
    "    id, url = sprite_url\n",
    "    path = f\"./data/pokemon_sprites/{id}.png\"\n",
    "    if overwrite or not os.path.exists(path):\n",
    "        urllib.request.urlretrieve(url, path)"
   ]
  },
  {
   "cell_type": "code",
   "execution_count": 3,
   "metadata": {},
   "outputs": [
    {
     "name": "stdout",
     "output_type": "stream",
     "text": [
      "There are 892 sprites in total\n",
      "Finish downloading all sprites\n"
     ]
    }
   ],
   "source": [
    "# Make directries (recursively) if not exist.\n",
    "pathlib.Path(\"./data/pokemon_sprites/\").mkdir(parents=True, exist_ok=True)\n",
    "\n",
    "sprite_urls = []\n",
    "for file in os.listdir(\"./data/pokemon_details/\"):\n",
    "    with open(f\"./data/pokemon_details/{file}\") as f:\n",
    "        data = json.load(f)\n",
    "        if data[\"sprites\"][\"front_default\"]:\n",
    "            sprite_urls.append([data[\"id\"], data[\"sprites\"][\"front_default\"]])\n",
    "print(f\"There are {len(sprite_urls)} sprites in total\")\n",
    "\n",
    "# Multithreading\n",
    "no_threads = 10\n",
    "with concurrent.futures.ThreadPoolExecutor(max_workers=no_threads) as executor:\n",
    "    executor.map(download_sprite, sprite_urls)\n",
    "print(f\"Finish downloading all sprites\")"
   ]
  },
  {
   "cell_type": "markdown",
   "metadata": {},
   "source": [
    "### Make a zip file for archiving"
   ]
  },
  {
   "cell_type": "code",
   "execution_count": 3,
   "metadata": {},
   "outputs": [
    {
     "name": "stdout",
     "output_type": "stream",
     "text": [
      "Zip to ./data/pokemon_sprites.zip successfully\n"
     ]
    }
   ],
   "source": [
    "with zipfile.ZipFile('./data/pokemon_sprites.zip','w') as zip_file: \n",
    "    for file in os.listdir(\"./data/pokemon_sprites/\"):\n",
    "        zip_file.write(f\"./data/pokemon_sprites/{file}\", f\"{file}\", compress_type=zipfile.ZIP_DEFLATED)\n",
    "print(\"Zip to ./data/pokemon_sprites.zip successfully\")"
   ]
  },
  {
   "cell_type": "code",
   "execution_count": null,
   "metadata": {},
   "outputs": [],
   "source": []
  }
 ],
 "metadata": {
  "kernelspec": {
   "display_name": "Python 3.7.3 64-bit",
   "language": "python",
   "name": "python37364bit3ca3215d4e6240698248485fce128d4d"
  },
  "language_info": {
   "codemirror_mode": {
    "name": "ipython",
    "version": 3
   },
   "file_extension": ".py",
   "mimetype": "text/x-python",
   "name": "python",
   "nbconvert_exporter": "python",
   "pygments_lexer": "ipython3",
   "version": "3.7.3"
  }
 },
 "nbformat": 4,
 "nbformat_minor": 4
}
