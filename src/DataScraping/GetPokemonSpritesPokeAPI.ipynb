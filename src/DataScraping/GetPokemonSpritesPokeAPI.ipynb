{
 "cells": [
  {
   "cell_type": "code",
   "execution_count": 1,
   "metadata": {},
   "outputs": [],
   "source": [
    "# External libraries\n",
    "import requests\n",
    "import nbimporter\n",
    "\n",
    "# Builtins\n",
    "import json\n",
    "import os\n",
    "import concurrent.futures\n",
    "import functools\n",
    "import zipfile\n",
    "import pathlib\n",
    "import urllib.request"
   ]
  },
  {
   "cell_type": "markdown",
   "metadata": {},
   "source": [
    "### Establish sprites url"
   ]
  },
  {
   "cell_type": "code",
   "execution_count": 10,
   "metadata": {},
   "outputs": [
    {
     "name": "stdout",
     "output_type": "stream",
     "text": [
      "There are 897 sprites in total\n"
     ]
    }
   ],
   "source": [
    "db_path = \"./data/pokemon_details_pokeapi/\"\n",
    "\n",
    "# Make directries (recursively) if not exist.\n",
    "pathlib.Path(db_path).mkdir(parents=True, exist_ok=True)\n",
    "\n",
    "sprite_urls = []\n",
    "for file in os.listdir(db_path):\n",
    "    with open(db_path + file) as f:\n",
    "        data = json.load(f)\n",
    "        if data[\"sprites\"][\"front_default\"]:\n",
    "            sprite_urls.append((data[\"id\"], data[\"species\"][\"name\"] , data[\"sprites\"][\"front_default\"]))\n",
    "print(f\"There are {len(sprite_urls)} sprites in total\")"
   ]
  },
  {
   "cell_type": "markdown",
   "metadata": {},
   "source": [
    "`sprite_urls` looks like this\n",
    "```python\n",
    "[(10001, 'deoxys', 'https://raw.githubusercontent.com/PokeAPI/sprites/master/sprites/pokemon/10001.png'),\n",
    " (10002, 'deoxys', 'https://raw.githubusercontent.com/PokeAPI/sprites/master/sprites/pokemon/10002.png'),\n",
    " (10003, 'deoxys', 'https://raw.githubusercontent.com/PokeAPI/sprites/master/sprites/pokemon/10003.png'),\n",
    " ...\n",
    "]\n",
    "```"
   ]
  },
  {
   "cell_type": "markdown",
   "metadata": {},
   "source": [
    "### Download Sprites using 10 threads"
   ]
  },
  {
   "cell_type": "code",
   "execution_count": 11,
   "metadata": {},
   "outputs": [],
   "source": [
    "def download_sprite(sprite_url, overwrite=False):\n",
    "    id, name, url = sprite_url\n",
    "    path = f\"./data/pokemon_sprites_pokeapi/{id}_{name}.png\"\n",
    "    if overwrite or not os.path.exists(path):\n",
    "        urllib.request.urlretrieve(url, path)"
   ]
  },
  {
   "cell_type": "code",
   "execution_count": 12,
   "metadata": {},
   "outputs": [
    {
     "name": "stdout",
     "output_type": "stream",
     "text": [
      "Finish downloading all sprites\n"
     ]
    }
   ],
   "source": [
    "# Multithreading\n",
    "no_threads = 10\n",
    "with concurrent.futures.ThreadPoolExecutor(max_workers=no_threads) as executor:\n",
    "    executor.map(download_sprite, sprite_urls)\n",
    "print(f\"Finish downloading all sprites\")"
   ]
  },
  {
   "cell_type": "markdown",
   "metadata": {},
   "source": [
    "### Make a zip file for archiving"
   ]
  },
  {
   "cell_type": "code",
   "execution_count": 9,
   "metadata": {},
   "outputs": [
    {
     "name": "stdout",
     "output_type": "stream",
     "text": [
      "Zip to ./data/pokemon_sprites_pokeapi.zip successfully\n"
     ]
    }
   ],
   "source": [
    "path = \"./data/pokemon_sprites_pokeapi/\"\n",
    "with zipfile.ZipFile(f'{path[:-1]}.zip','w') as zip_file: \n",
    "    for file in os.listdir(f\"{path}\"):\n",
    "        zip_file.write(f\"{path}{file}\", f\"{file}\", compress_type=zipfile.ZIP_DEFLATED)\n",
    "print(f\"Zip to {path[:-1]}.zip successfully\")"
   ]
  },
  {
   "cell_type": "code",
   "execution_count": null,
   "metadata": {},
   "outputs": [],
   "source": []
  }
 ],
 "metadata": {
  "kernelspec": {
   "display_name": "Python 3.7.3 64-bit",
   "language": "python",
   "name": "python37364bit3ca3215d4e6240698248485fce128d4d"
  },
  "language_info": {
   "codemirror_mode": {
    "name": "ipython",
    "version": 3
   },
   "file_extension": ".py",
   "mimetype": "text/x-python",
   "name": "python",
   "nbconvert_exporter": "python",
   "pygments_lexer": "ipython3",
   "version": "3.7.3"
  }
 },
 "nbformat": 4,
 "nbformat_minor": 4
}
