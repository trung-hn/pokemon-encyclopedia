{
 "cells": [
  {
   "cell_type": "markdown",
   "metadata": {},
   "source": [
    "- Note: Call per second is limited so need to save locally.\n",
    "- File is too big, cannot save as 1 file\n",
    "- Looking into removing parts that don't need to json file\n",
    "    - Decide to use multithreading to download several at the same time\n",
    "    \n",
    "- need to explain gender rate (refer to doc)  \n",
    "\n",
    "https://pokeapi.co/docs/v2.html"
   ]
  },
  {
   "cell_type": "markdown",
   "metadata": {},
   "source": [
    "## In order to reduce the number of call of API, we decided to save this url to local.\n",
    "### Fixed limit: 100 API requests per IP address per minute"
   ]
  },
  {
   "cell_type": "code",
   "execution_count": 2,
   "metadata": {},
   "outputs": [],
   "source": [
    "import requests\n",
    "import json\n",
    "import collections\n",
    "import time\n",
    "import concurrent.futures\n",
    "import csv\n",
    "import functools\n",
    "from pprint import pprint\n",
    "from typing import List, Dict\n",
    "from IPython.display import clear_output"
   ]
  },
  {
   "cell_type": "markdown",
   "metadata": {},
   "source": [
    "Each pokemon has many different json files with different information. This will run through each pokemon in each json type (input) and save them as a csv file. This is how it looks like at the end:\n",
    "\n",
    "```\n",
    "bulbasaur,https://pokeapi.co/api/v2/pokemon-species/1/\n",
    "ivysaur,https://pokeapi.co/api/v2/pokemon-species/2/\n",
    "venusaur,https://pokeapi.co/api/v2/pokemon-species/3/\n",
    "charmander,https://pokeapi.co/api/v2/pokemon-species/4/\n",
    "charmeleon,https://pokeapi.co/api/v2/pokemon-species/5/\n",
    "charizard,https://pokeapi.co/api/v2/pokemon-species/6/\n",
    "squirtle,https://pokeapi.co/api/v2/pokemon-species/7/\n",
    "wartortle,https://pokeapi.co/api/v2/pokemon-species/8/\n",
    "blastoise,https://pokeapi.co/api/v2/pokemon-species/9/\n",
    "caterpie,https://pokeapi.co/api/v2/pokemon-species/10/\n",
    "...\n",
    "```\n"
   ]
  },
  {
   "cell_type": "code",
   "execution_count": 127,
   "metadata": {},
   "outputs": [],
   "source": [
    "def request_and_save_urls(json_type: str):\n",
    "    # Each url only has 20 pokemons\n",
    "    url = fr\"https://pokeapi.co/api/v2/{json_type}/\"\n",
    "    with open(f\"data/{json_type}/{json_type}-urls.csv\", \"w\") as file:\n",
    "        pokemon_url_writer = csv.writer(file, delimiter=\",\", lineterminator=\"\\n\")\n",
    "\n",
    "        while 1:\n",
    "            # Get urls of 20 pokemons\n",
    "            response = requests.get(url)\n",
    "            json_data = json.loads(response.text)\n",
    "\n",
    "            # Write to CSV file\n",
    "            for pokemon in json_data[\"results\"]:\n",
    "                pokemon_url_writer.writerow(list(pokemon.values()))\n",
    "\n",
    "            # Next 20 pokemons\n",
    "            url = json_data[\"next\"]\n",
    "            if not url: break"
   ]
  },
  {
   "cell_type": "markdown",
   "metadata": {},
   "source": [
    "### We want the following json files"
   ]
  },
  {
   "cell_type": "code",
   "execution_count": 126,
   "metadata": {},
   "outputs": [],
   "source": [
    "request_and_save_urls(\"pokemon\")\n",
    "request_and_save_urls(\"pokemon-species\")"
   ]
  },
  {
   "cell_type": "markdown",
   "metadata": {},
   "source": [
    "### Load the csv file and request each Pokemon\n",
    "This is used to fetch data from pokeAPI and save it locally. We load the CSV file earlier and request each Pokemon information. We group all information by type (pokemon_species, ...) and save it as a JSON file. However, because of the **fixed limit** on how many API can be called per minute (100), there is a delay in the code which make the total run time between 15-20 minutes\n",
    "\n",
    "We also have an exclusion list to exclude data that are not needed from the responsed JSON"
   ]
  },
  {
   "cell_type": "code",
   "execution_count": 3,
   "metadata": {},
   "outputs": [],
   "source": [
    "def request_and_cache(json_type, exclude: List[str]) -> None:\n",
    "    return_json = {}\n",
    "    \n",
    "    # Open csv file to get urls\n",
    "    pokemon_urls = list(csv.reader(open(f\"data/{json_type}/{json_type}-urls.csv\", \"r\"), delimiter=\",\"))\n",
    "    \n",
    "    # Request each url and save as 1 big json file\n",
    "    for i, (pokemon_name, pokemon_url) in enumerate(pokemon_urls):\n",
    "        clear_output()\n",
    "        print(f\"{i}. Working on type: '{json_type}', pokemon: {pokemon_name}\")\n",
    "        pokemon_json = json.loads(requests.get(pokemon_url).text)\n",
    "        \n",
    "        # To reduce the file size, we exclude some parts of json_data\n",
    "        return_json[pokemon_name] = {k:v for k, v in pokemon_json.items() if k not in exclude}\n",
    "        \n",
    "        # Make sure not to exceed to API limit\n",
    "        time.sleep(1)\n",
    "    json.dump(return_json, open(f\"data/{json_type}/{json_type}.json\", \"w\"))"
   ]
  },
  {
   "cell_type": "markdown",
   "metadata": {},
   "source": [
    "We use multithreading to make this process faster"
   ]
  },
  {
   "cell_type": "code",
   "execution_count": 4,
   "metadata": {},
   "outputs": [
    {
     "name": "stdout",
     "output_type": "stream",
     "text": [
      "963. Working on type: 'pokemon', pokemon: necrozma-ultra\n"
     ]
    }
   ],
   "source": [
    "with concurrent.futures.ThreadPoolExecutor(max_workers=2) as executor:\n",
    "    for json_type, exclude in [(\"pokemon\", [\"game_indices\", \n",
    "                                            \"moves\", \n",
    "                                            ]), \n",
    "                               (\"pokemon-species\", [\"genera\", \n",
    "                                                    \"names\", \n",
    "                                                    \"pokedex_numbers\", \n",
    "                                                    \"varieties\", \n",
    "                                                    \"flavor_text_entries\",\n",
    "                                                   ]),\n",
    "                               ]:\n",
    "        temp = functools.partial(request_and_cache, exclude=exclude)\n",
    "        executor.map(temp, [json_type])"
   ]
  },
  {
   "cell_type": "markdown",
   "metadata": {},
   "source": [
    "### Load Pokemon Json files and Analyse"
   ]
  },
  {
   "cell_type": "markdown",
   "metadata": {},
   "source": [
    "#### Pokemon"
   ]
  },
  {
   "cell_type": "code",
   "execution_count": 59,
   "metadata": {
    "scrolled": true
   },
   "outputs": [],
   "source": [
    "all_pokemons_info = collections.defaultdict(dict)\n",
    "\n",
    "pokemon_json = json.load(open(\"data/pokemon/pokemon.json\", \"r\"))\n",
    "for pokemon, info in pokemon_json.items():\n",
    "    pokemon_info = all_pokemons_info[pokemon]\n",
    "    \n",
    "    # Get height, weight, name\n",
    "    for key in (\"height\", \"weight\", \"name\"):\n",
    "        pokemon_info[key] = info[key]\n",
    "        \n",
    "    # Get 6 stats (hp, att, def, sp. att, sp. def) for pokemon\n",
    "    for stats in info[\"stats\"]:\n",
    "        pokemon_info[stats[\"stat\"][\"name\"]] = stats[\"base_stat\"]\n",
    "    \n",
    "    # Get list of abilities\n",
    "    pokemon_info[\"abilites\"] = [ability[\"ability\"][\"name\"] for ability in info[\"abilities\"]]\n",
    "    \n",
    "    # Get Pokemon Image\n",
    "    pokemon_info[\"sprites\"] = info[\"sprites\"][\"front_default\"]\n",
    "    \n",
    "    # Get Pokemon Types\n",
    "    pokemon_info[\"types\"] = [type_[\"type\"][\"name\"] for type_ in info[\"types\"]]\n",
    "    \n",
    "    # Get Pokemon Species Name\n",
    "    pokemon_info[\"species\"] = info[\"species\"][\"name\"]"
   ]
  },
  {
   "cell_type": "markdown",
   "metadata": {},
   "source": [
    "#### Pokemon Species"
   ]
  },
  {
   "cell_type": "code",
   "execution_count": 60,
   "metadata": {},
   "outputs": [],
   "source": [
    "pokemon_species_json = json.load(open(\"data/pokemon-species/pokemon-species.json\", \"r\"))\n",
    "for pokemon, info in pokemon_species_json.items():\n",
    "    pokemon_info = all_pokemons_info[pokemon]\n",
    "    \n",
    "    # Get basic info\n",
    "    for key in (\"base_happiness\", \"capture_rate\", \"gender_rate\"):\n",
    "        pokemon_info[key] = info[key]\n",
    "    \n",
    "    # Get list of egg groups\n",
    "    pokemon_info[\"egg_groups\"] = [group[\"name\"] for group in info[\"egg_groups\"]]\n",
    "    \n",
    "    # Get Evolution Chain\n",
    "    if info[\"evolves_from_species\"]:\n",
    "        pokemon_info[\"evolves_from\"] = info[\"evolves_from_species\"][\"name\"]\n",
    "        prev_pokemon = all_pokemons_info[pokemon_info[\"evolves_from\"]]\n",
    "        prev_pokemon[\"evolve_to\"] = prev_pokemon.get(\"evolve_to\", []) + [pokemon]    \n",
    "        \n",
    "    # Get basic info. These info are in a dictionary\n",
    "    for key in (\"color\", \"generation\", \"growth_rate\", \"habitat\", \"shape\"):\n",
    "        if info[key]: pokemon_info[key] = info[key][\"name\"]    "
   ]
  },
  {
   "cell_type": "code",
   "execution_count": 61,
   "metadata": {},
   "outputs": [
    {
     "name": "stdout",
     "output_type": "stream",
     "text": [
      "['bulbasaur',\n",
      " {'abilites': ['chlorophyll', 'overgrow'],\n",
      "  'attack': 49,\n",
      "  'base_happiness': 70,\n",
      "  'capture_rate': 45,\n",
      "  'color': 'green',\n",
      "  'defense': 49,\n",
      "  'egg_groups': ['plant', 'monster'],\n",
      "  'evolve_to': ['ivysaur'],\n",
      "  'gender_rate': 1,\n",
      "  'generation': 'generation-i',\n",
      "  'growth_rate': 'medium-slow',\n",
      "  'habitat': 'grassland',\n",
      "  'height': 7,\n",
      "  'hp': 45,\n",
      "  'name': 'bulbasaur',\n",
      "  'shape': 'quadruped',\n",
      "  'special-attack': 65,\n",
      "  'special-defense': 65,\n",
      "  'species': 'bulbasaur',\n",
      "  'speed': 45,\n",
      "  'sprites': 'https://raw.githubusercontent.com/PokeAPI/sprites/master/sprites/pokemon/1.png',\n",
      "  'types': ['poison', 'grass'],\n",
      "  'weight': 69}]\n",
      "['ivysaur',\n",
      " {'abilites': ['chlorophyll', 'overgrow'],\n",
      "  'attack': 62,\n",
      "  'base_happiness': 70,\n",
      "  'capture_rate': 45,\n",
      "  'color': 'green',\n",
      "  'defense': 63,\n",
      "  'egg_groups': ['plant', 'monster'],\n",
      "  'evolve_to': ['venusaur'],\n",
      "  'evolves_from': 'bulbasaur',\n",
      "  'gender_rate': 1,\n",
      "  'generation': 'generation-i',\n",
      "  'growth_rate': 'medium-slow',\n",
      "  'habitat': 'grassland',\n",
      "  'height': 10,\n",
      "  'hp': 60,\n",
      "  'name': 'ivysaur',\n",
      "  'shape': 'quadruped',\n",
      "  'special-attack': 80,\n",
      "  'special-defense': 80,\n",
      "  'species': 'ivysaur',\n",
      "  'speed': 60,\n",
      "  'sprites': 'https://raw.githubusercontent.com/PokeAPI/sprites/master/sprites/pokemon/2.png',\n",
      "  'types': ['poison', 'grass'],\n",
      "  'weight': 130}]\n",
      "['venusaur',\n",
      " {'abilites': ['chlorophyll', 'overgrow'],\n",
      "  'attack': 82,\n",
      "  'base_happiness': 70,\n",
      "  'capture_rate': 45,\n",
      "  'color': 'green',\n",
      "  'defense': 83,\n",
      "  'egg_groups': ['plant', 'monster'],\n",
      "  'evolves_from': 'ivysaur',\n",
      "  'gender_rate': 1,\n",
      "  'generation': 'generation-i',\n",
      "  'growth_rate': 'medium-slow',\n",
      "  'habitat': 'grassland',\n",
      "  'height': 20,\n",
      "  'hp': 80,\n",
      "  'name': 'venusaur',\n",
      "  'shape': 'quadruped',\n",
      "  'special-attack': 100,\n",
      "  'special-defense': 100,\n",
      "  'species': 'venusaur',\n",
      "  'speed': 80,\n",
      "  'sprites': 'https://raw.githubusercontent.com/PokeAPI/sprites/master/sprites/pokemon/3.png',\n",
      "  'types': ['poison', 'grass'],\n",
      "  'weight': 1000}]\n",
      "['eevee',\n",
      " {'abilites': ['anticipation', 'adaptability', 'run-away'],\n",
      "  'attack': 55,\n",
      "  'base_happiness': 70,\n",
      "  'capture_rate': 45,\n",
      "  'color': 'brown',\n",
      "  'defense': 50,\n",
      "  'egg_groups': ['ground'],\n",
      "  'evolve_to': ['vaporeon',\n",
      "                'jolteon',\n",
      "                'flareon',\n",
      "                'espeon',\n",
      "                'umbreon',\n",
      "                'leafeon',\n",
      "                'glaceon',\n",
      "                'sylveon'],\n",
      "  'gender_rate': 1,\n",
      "  'generation': 'generation-i',\n",
      "  'growth_rate': 'medium',\n",
      "  'habitat': 'urban',\n",
      "  'height': 3,\n",
      "  'hp': 55,\n",
      "  'name': 'eevee',\n",
      "  'shape': 'quadruped',\n",
      "  'special-attack': 45,\n",
      "  'special-defense': 65,\n",
      "  'species': 'eevee',\n",
      "  'speed': 55,\n",
      "  'sprites': 'https://raw.githubusercontent.com/PokeAPI/sprites/master/sprites/pokemon/133.png',\n",
      "  'types': ['normal'],\n",
      "  'weight': 65}]\n"
     ]
    }
   ],
   "source": [
    "for pokemon in (\"bulbasaur\", \"ivysaur\", \"venusaur\", \"eevee\"):\n",
    "    pprint([pokemon, all_pokemons_info[pokemon]])"
   ]
  },
  {
   "cell_type": "code",
   "execution_count": 62,
   "metadata": {},
   "outputs": [],
   "source": [
    "json.dump(all_pokemons_info, open(\"data/all_pokemons_info.json\", \"w\"))"
   ]
  },
  {
   "cell_type": "code",
   "execution_count": null,
   "metadata": {},
   "outputs": [],
   "source": []
  }
 ],
 "metadata": {
  "kernelspec": {
   "display_name": "Python 3",
   "language": "python",
   "name": "python3"
  },
  "language_info": {
   "codemirror_mode": {
    "name": "ipython",
    "version": 3
   },
   "file_extension": ".py",
   "mimetype": "text/x-python",
   "name": "python",
   "nbconvert_exporter": "python",
   "pygments_lexer": "ipython3",
   "version": "3.7.3"
  }
 },
 "nbformat": 4,
 "nbformat_minor": 4
}
