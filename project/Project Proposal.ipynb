{
 "cells": [
  {
   "cell_type": "markdown",
   "metadata": {},
   "source": [
    "# Group Member: Trung; George; Frank; Yifan; Shibo\n"
   ]
  },
  {
   "cell_type": "markdown",
   "metadata": {},
   "source": [
    "# a. Forming a team (include in the project proposal team's members self-identified skills, and individual contributions) "
   ]
  },
  {
   "cell_type": "markdown",
   "metadata": {},
   "source": [
    "- Yifan Yang, familiar with data analytics and researching data. (Using R to analyse data.) One-year experience in the POS company to analyse customers' needs and likes. Helping the team collecting, cleaning and well organizing the data that we need with George.  \n",
    "\n",
    "- Shibo Yao, bachelor's in Software Engineering and got lot of experience on Python coding. Will assist Trung with coding part.  \n",
    "\n",
    "- George Stotz, have 15 years of corporate retail business experience. Have worked with large data sets to pull out action items and drive business decisions. Have no coding experience. \n",
    "\n",
    "- Trung Hoang, Team leader, have five-year experience on Python coding. Will be in charge of main coding part.\n",
    "\n",
    "- Frank, new to programming with some Python & R projects. Will in charge of seeking potential users and applications of the data we find and submitting the proposal. "
   ]
  },
  {
   "cell_type": "markdown",
   "metadata": {},
   "source": [
    "# b. Discussion of the data source of interest "
   ]
  },
  {
   "cell_type": "markdown",
   "metadata": {},
   "source": [
    "# c. Discussion of dataset potential users and applications"
   ]
  },
  {
   "cell_type": "markdown",
   "metadata": {},
   "source": [
    "# d. Discussion of the plan for acquiring the data"
   ]
  },
  {
   "cell_type": "markdown",
   "metadata": {},
   "source": [
    "Workplan:  \n",
    "- Week 5: find source of data \n",
    "- Week 6: scrape data \n",
    "- Week 7: clean up data \n",
    "- Week 8: finishing  \n",
    "- Week 9: testing, documentation \n",
    "- Week 10: Presentation preparation \n",
    " \n",
    "Scope of data: last ~30 years \n",
    " \n",
    "Distribution: We will distribute our data in 2 formats. Both will be available on github\n",
    "1. Code/Script to run, this will collect and generate data up to current date.\n",
    "2. Final Data that we collected at the point of creation \n",
    "\n",
    "These are some of the sources that we are looking into in order to get the data\n",
    "\n",
    "Yahoo Finance APi: https://rapidapi.com/apidojo/api/yahoo-finance1?endpoint=5c3d9f1be4b0b136b4746bfe \n",
    "\n",
    "Bloomberg Finance API: https://www.bloomberg.com/professional/support/api-library/ \n",
    "\n",
    "IEX API: https://iextrading.com/developer/docs/#getting-started \n",
    "Google Finance: https://pypi.org/project/googlefinance/ "
   ]
  },
  {
   "cell_type": "markdown",
   "metadata": {},
   "source": [
    "### Example of raw data"
   ]
  },
  {
   "cell_type": "markdown",
   "metadata": {},
   "source": [
    "We look into this project but without a person who has domain knowledge, it's hard. So we choose another project\n",
    "https://pokeapi.co/\n",
    "\n"
   ]
  },
  {
   "cell_type": "markdown",
   "metadata": {},
   "source": [
    "https://pokemon.fandom.com/wiki/Pikachu\n",
    "https://pokemon.fandom.com/wiki/List_of_Pok%C3%A9mon#Generation%20I\n",
    "https://pokeapi.co/docs/v2.html\n",
    "https://github.com/PokeAPI/pokebase\n",
    "Mega: https://wiki.p-insurgence.com/Mega_Evolution\n",
    "\n",
    "Need:\n",
    "Coverage\n",
    "\n",
    "More:\n",
    "https://bulbapedia.bulbagarden.net/wiki/Necrozma_(Pok%C3%A9mon)\n",
    "\n"
   ]
  }
 ],
 "metadata": {
  "kernelspec": {
   "display_name": "Python 3",
   "language": "python",
   "name": "python3"
  },
  "language_info": {
   "codemirror_mode": {
    "name": "ipython",
    "version": 3
   },
   "file_extension": ".py",
   "mimetype": "text/x-python",
   "name": "python",
   "nbconvert_exporter": "python",
   "pygments_lexer": "ipython3",
   "version": "3.7.3"
  }
 },
 "nbformat": 4,
 "nbformat_minor": 4
}
